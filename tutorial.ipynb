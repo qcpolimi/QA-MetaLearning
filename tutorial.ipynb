{
 "cells": [
  {
   "cell_type": "markdown",
   "source": [
    "# Packages needed to access data"
   ],
   "metadata": {
    "collapsed": false
   },
   "id": "fe4829c210d22c33"
  },
  {
   "cell_type": "code",
   "execution_count": 1,
   "id": "initial_id",
   "metadata": {
    "collapsed": true,
    "ExecuteTime": {
     "end_time": "2024-11-18T16:17:51.754549Z",
     "start_time": "2024-11-18T16:17:49.781325Z"
    }
   },
   "outputs": [],
   "source": [
    "import pandas as pd\n",
    "import numpy as np"
   ]
  },
  {
   "cell_type": "markdown",
   "source": [
    "# Retrieve QUBO matrix of an instance\n",
    "- How to retrieve the QUBO matrix of instance `id`?\n",
    "- Which problem class is `id` instance of?"
   ],
   "metadata": {
    "collapsed": false
   },
   "id": "9e4fbd8962ac1fad"
  },
  {
   "cell_type": "code",
   "execution_count": 3,
   "outputs": [
    {
     "name": "stdout",
     "output_type": "stream",
     "text": [
      "problem          NumPart\n",
      "structure      geometric\n",
      "n_variables           27\n",
      "repetition           0.0\n",
      "Name: 5, dtype: object\n"
     ]
    }
   ],
   "source": [
    "# Select instance with id = 5\n",
    "# By changing id, we can retrieve the QUBO matrix of other instances\n",
    "id = 5\n",
    "Q = pd.read_csv(f'data/qubo_dataset/{id}.csv', index_col=[0]).to_numpy()\n",
    "\n",
    "# The characteristics of the instance are stored in file map_index_to_instance.csv\n",
    "map_df = pd.read_csv('data/map_index_to_instance.csv', index_col=[0])\n",
    "print(map_df.loc[id])"
   ],
   "metadata": {
    "collapsed": false,
    "ExecuteTime": {
     "end_time": "2024-11-18T16:23:30.028983Z",
     "start_time": "2024-11-18T16:23:29.809252Z"
    }
   },
   "id": "e5728f15f2041110"
  },
  {
   "cell_type": "markdown",
   "source": [
    "# Solve an instance with Quantum Annealing\n",
    "We want to solve the instance 5 with quantum annealing.\n",
    "To do this, you need the `ocean-sdk`.\n",
    "To do so, we proceed with the following steps:\n",
    "1. Transform matrix `Q` into a Binary Quadratic Problem (BQM)\n",
    "2. Embed the BQM onto the quantum annealer\n",
    "3. Sample solutions\n",
    "\n",
    "We need the following packages:"
   ],
   "metadata": {
    "collapsed": false
   },
   "id": "e59333bfb2cd36c"
  },
  {
   "cell_type": "code",
   "execution_count": null,
   "outputs": [],
   "source": [
    "import dimod\n",
    "from dwave.system import DWaveSampler, FixedEmbeddingComposite\n",
    "from ast import literal_eval"
   ],
   "metadata": {
    "collapsed": false,
    "ExecuteTime": {
     "end_time": "2024-11-18T16:17:53.302194Z",
     "start_time": "2024-11-18T16:17:53.291873Z"
    }
   },
   "id": "41669aae760a9f34"
  },
  {
   "cell_type": "markdown",
   "source": [
    "In the case we want to use a precomputed embedding, as one of those in the `embeddings` folder, we rely on these helper functions we have defined."
   ],
   "metadata": {
    "collapsed": false
   },
   "id": "9e68cd474b5fd269"
  },
  {
   "cell_type": "code",
   "execution_count": null,
   "outputs": [],
   "source": [
    "from dwave.system import FixedEmbeddingComposite\n",
    "from ast import literal_eval\n",
    "\n",
    "# Return a dictionary containing the embedding of the instance.\n",
    "def extract_embedding(id):\n",
    "    dataframe = pd.read_csv(f'data/embeddings/{id}.csv', index_col=0, header=None, dtype=object)\n",
    "    dataframe[1] = dataframe[1].apply(lambda x: literal_eval(x))\n",
    "    dictionary = dataframe.to_dict()\n",
    "    return dictionary[1]\n",
    "\n",
    "embedding = extract_embedding(id)\n",
    "print(embedding)"
   ],
   "metadata": {
    "collapsed": false,
    "ExecuteTime": {
     "start_time": "2024-11-18T16:17:53.299438Z"
    }
   },
   "id": "bb0f5d0ea6caa732"
  },
  {
   "cell_type": "code",
   "execution_count": 8,
   "outputs": [
    {
     "name": "stdout",
     "output_type": "stream",
     "text": [
      "{(0, 0): -38496.0, (0, 1): 6848.0, (0, 2): 4928.0, (0, 3): 8320.0, (0, 4): 896.0, (0, 5): 768.0, (0, 6): 1728.0, (0, 7): 5760.0, (0, 8): 1472.0, (0, 9): 9600.0, (0, 10): 640.0, (0, 11): 2240.0, (0, 12): 2048.0, (0, 13): 576.0, (0, 14): 4928.0, (0, 15): 4032.0, (0, 16): 640.0, (0, 17): 1152.0, (0, 18): 2880.0, (0, 19): 640.0, (0, 20): 1216.0, (0, 21): 3968.0, (0, 22): 3968.0, (0, 23): 2432.0, (0, 24): 4224.0, (0, 25): 320.0, (0, 26): 768.0, (1, 1): -472512.0, (1, 2): 65912.0, (1, 3): 111280.0, (1, 4): 11984.0, (1, 5): 10272.0, (1, 6): 23112.0, (1, 7): 77040.0, (1, 8): 19688.0, (1, 9): 128400.0, (1, 10): 8560.0, (1, 11): 29960.0, (1, 12): 27392.0, (1, 13): 7704.0, (1, 14): 65912.0, (1, 15): 53928.0, (1, 16): 8560.0, (1, 17): 15408.0, (1, 18): 38520.0, (1, 19): 8560.0, (1, 20): 16264.0, (1, 21): 53072.0, (1, 22): 53072.0, (1, 23): 32528.0, (1, 24): 56496.0, (1, 25): 4280.0, (1, 26): 10272.0, (2, 2): -349272.0, (2, 3): 80080.0, (2, 4): 8624.0, (2, 5): 7392.0, (2, 6): 16632.0, (2, 7): 55440.0, (2, 8): 14168.0, (2, 9): 92400.0, (2, 10): 6160.0, (2, 11): 21560.0, (2, 12): 19712.0, (2, 13): 5544.0, (2, 14): 47432.0, (2, 15): 38808.0, (2, 16): 6160.0, (2, 17): 11088.0, (2, 18): 27720.0, (2, 19): 6160.0, (2, 20): 11704.0, (2, 21): 38192.0, (2, 22): 38192.0, (2, 23): 23408.0, (2, 24): 40656.0, (2, 25): 3080.0, (2, 26): 7392.0, (3, 3): -562120.0, (3, 4): 14560.0, (3, 5): 12480.0, (3, 6): 28080.0, (3, 7): 93600.0, (3, 8): 23920.0, (3, 9): 156000.0, (3, 10): 10400.0, (3, 11): 36400.0, (3, 12): 33280.0, (3, 13): 9360.0, (3, 14): 80080.0, (3, 15): 65520.0, (3, 16): 10400.0, (3, 17): 18720.0, (3, 18): 46800.0, (3, 19): 10400.0, (3, 20): 19760.0, (3, 21): 64480.0, (3, 22): 64480.0, (3, 23): 39520.0, (3, 24): 68640.0, (3, 25): 5200.0, (3, 26): 12480.0, (4, 4): -67032.0, (4, 5): 1344.0, (4, 6): 3024.0, (4, 7): 10080.0, (4, 8): 2576.0, (4, 9): 16800.0, (4, 10): 1120.0, (4, 11): 3920.0, (4, 12): 3584.0, (4, 13): 1008.0, (4, 14): 8624.0, (4, 15): 7056.0, (4, 16): 1120.0, (4, 17): 2016.0, (4, 18): 5040.0, (4, 19): 1120.0, (4, 20): 2128.0, (4, 21): 6944.0, (4, 22): 6944.0, (4, 23): 4256.0, (4, 24): 7392.0, (4, 25): 560.0, (4, 26): 1344.0, (5, 5): -57552.0, (5, 6): 2592.0, (5, 7): 8640.0, (5, 8): 2208.0, (5, 9): 14400.0, (5, 10): 960.0, (5, 11): 3360.0, (5, 12): 3072.0, (5, 13): 864.0, (5, 14): 7392.0, (5, 15): 6048.0, (5, 16): 960.0, (5, 17): 1728.0, (5, 18): 4320.0, (5, 19): 960.0, (5, 20): 1824.0, (5, 21): 5952.0, (5, 22): 5952.0, (5, 23): 3648.0, (5, 24): 6336.0, (5, 25): 480.0, (5, 26): 1152.0, (6, 6): -127872.0, (6, 7): 19440.0, (6, 8): 4968.0, (6, 9): 32400.0, (6, 10): 2160.0, (6, 11): 7560.0, (6, 12): 6912.0, (6, 13): 1944.0, (6, 14): 16632.0, (6, 15): 13608.0, (6, 16): 2160.0, (6, 17): 3888.0, (6, 18): 9720.0, (6, 19): 2160.0, (6, 20): 4104.0, (6, 21): 13392.0, (6, 22): 13392.0, (6, 23): 8208.0, (6, 24): 14256.0, (6, 25): 1080.0, (6, 26): 2592.0, (7, 7): -403560.0, (7, 8): 16560.0, (7, 9): 108000.0, (7, 10): 7200.0, (7, 11): 25200.0, (7, 12): 23040.0, (7, 13): 6480.0, (7, 14): 55440.0, (7, 15): 45360.0, (7, 16): 7200.0, (7, 17): 12960.0, (7, 18): 32400.0, (7, 19): 7200.0, (7, 20): 13680.0, (7, 21): 44640.0, (7, 22): 44640.0, (7, 23): 27360.0, (7, 24): 47520.0, (7, 25): 3600.0, (7, 26): 8640.0, (8, 8): -109296.0, (8, 9): 27600.0, (8, 10): 1840.0, (8, 11): 6440.0, (8, 12): 5888.0, (8, 13): 1656.0, (8, 14): 14168.0, (8, 15): 11592.0, (8, 16): 1840.0, (8, 17): 3312.0, (8, 18): 8280.0, (8, 19): 1840.0, (8, 20): 3496.0, (8, 21): 11408.0, (8, 22): 11408.0, (8, 23): 6992.0, (8, 24): 12144.0, (8, 25): 920.0, (8, 26): 2208.0, (9, 9): -636600.0, (9, 10): 12000.0, (9, 11): 42000.0, (9, 12): 38400.0, (9, 13): 10800.0, (9, 14): 92400.0, (9, 15): 75600.0, (9, 16): 12000.0, (9, 17): 21600.0, (9, 18): 54000.0, (9, 19): 12000.0, (9, 20): 22800.0, (9, 21): 74400.0, (9, 22): 74400.0, (9, 23): 45600.0, (9, 24): 79200.0, (9, 25): 6000.0, (9, 26): 14400.0, (10, 10): -48040.0, (10, 11): 2800.0, (10, 12): 2560.0, (10, 13): 720.0, (10, 14): 6160.0, (10, 15): 5040.0, (10, 16): 800.0, (10, 17): 1440.0, (10, 18): 3600.0, (10, 19): 800.0, (10, 20): 1520.0, (10, 21): 4960.0, (10, 22): 4960.0, (10, 23): 3040.0, (10, 24): 5280.0, (10, 25): 400.0, (10, 26): 960.0, (11, 11): -164640.0, (11, 12): 8960.0, (11, 13): 2520.0, (11, 14): 21560.0, (11, 15): 17640.0, (11, 16): 2800.0, (11, 17): 5040.0, (11, 18): 12600.0, (11, 19): 2800.0, (11, 20): 5320.0, (11, 21): 17360.0, (11, 22): 17360.0, (11, 23): 10640.0, (11, 24): 18480.0, (11, 25): 1400.0, (11, 26): 3360.0, (12, 12): -150912.0, (12, 13): 2304.0, (12, 14): 19712.0, (12, 15): 16128.0, (12, 16): 2560.0, (12, 17): 4608.0, (12, 18): 11520.0, (12, 19): 2560.0, (12, 20): 4864.0, (12, 21): 15872.0, (12, 22): 15872.0, (12, 23): 9728.0, (12, 24): 16896.0, (12, 25): 1280.0, (12, 26): 3072.0, (13, 13): -43272.0, (13, 14): 5544.0, (13, 15): 4536.0, (13, 16): 720.0, (13, 17): 1296.0, (13, 18): 3240.0, (13, 19): 720.0, (13, 20): 1368.0, (13, 21): 4464.0, (13, 22): 4464.0, (13, 23): 2736.0, (13, 24): 4752.0, (13, 25): 360.0, (13, 26): 864.0, (14, 14): -349272.0, (14, 15): 38808.0, (14, 16): 6160.0, (14, 17): 11088.0, (14, 18): 27720.0, (14, 19): 6160.0, (14, 20): 11704.0, (14, 21): 38192.0, (14, 22): 38192.0, (14, 23): 23408.0, (14, 24): 40656.0, (14, 25): 3080.0, (14, 26): 7392.0, (15, 15): -289296.0, (15, 16): 5040.0, (15, 17): 9072.0, (15, 18): 22680.0, (15, 19): 5040.0, (15, 20): 9576.0, (15, 21): 31248.0, (15, 22): 31248.0, (15, 23): 19152.0, (15, 24): 33264.0, (15, 25): 2520.0, (15, 26): 6048.0, (16, 16): -48040.0, (16, 17): 1440.0, (16, 18): 3600.0, (16, 19): 800.0, (16, 20): 1520.0, (16, 21): 4960.0, (16, 22): 4960.0, (16, 23): 3040.0, (16, 24): 5280.0, (16, 25): 400.0, (16, 26): 960.0, (17, 17): -85896.0, (17, 18): 6480.0, (17, 19): 1440.0, (17, 20): 2736.0, (17, 21): 8928.0, (17, 22): 8928.0, (17, 23): 5472.0, (17, 24): 9504.0, (17, 25): 720.0, (17, 26): 1728.0, (18, 18): -209880.0, (18, 19): 3600.0, (18, 20): 6840.0, (18, 21): 22320.0, (18, 22): 22320.0, (18, 23): 13680.0, (18, 24): 23760.0, (18, 25): 1800.0, (18, 26): 4320.0, (19, 19): -48040.0, (19, 20): 1520.0, (19, 21): 4960.0, (19, 22): 4960.0, (19, 23): 3040.0, (19, 24): 5280.0, (19, 25): 400.0, (19, 26): 960.0, (20, 20): -90592.0, (20, 21): 9424.0, (20, 22): 9424.0, (20, 23): 5776.0, (20, 24): 10032.0, (20, 25): 760.0, (20, 26): 1824.0, (21, 21): -284952.0, (21, 22): 30752.0, (21, 23): 18848.0, (21, 24): 32736.0, (21, 25): 2480.0, (21, 26): 5952.0, (22, 22): -284952.0, (22, 23): 18848.0, (22, 24): 32736.0, (22, 25): 2480.0, (22, 26): 5952.0, (23, 23): -178296.0, (23, 24): 20064.0, (23, 25): 1520.0, (23, 26): 3648.0, (24, 24): -302280.0, (24, 25): 2640.0, (24, 26): 6336.0, (25, 25): -24120.0, (25, 26): 480.0, (26, 26): -57552.0}\n"
     ]
    }
   ],
   "source": [
    "def array_to_dict(a):\n",
    "    n = len(a)\n",
    "    d = {}\n",
    "    for i in range(n):\n",
    "        for j in range(i, n):\n",
    "            if a[i, j] != 0:\n",
    "                d[(i, j)] = a[i, j]\n",
    "    return d\n",
    "\n",
    "Q_dict = array_to_dict(Q)\n",
    "print(Q_dict)"
   ],
   "metadata": {
    "collapsed": false,
    "ExecuteTime": {
     "end_time": "2024-11-18T16:24:40.062588Z",
     "start_time": "2024-11-18T16:24:40.030861Z"
    }
   },
   "id": "7a3ce0c95f5abb66"
  },
  {
   "cell_type": "markdown",
   "source": [
    "1. Transform the QUBO matrix into BQM format"
   ],
   "metadata": {
    "collapsed": false
   },
   "id": "f34f5ead29d25ca2"
  },
  {
   "cell_type": "code",
   "execution_count": null,
   "outputs": [],
   "source": [
    "bqm = dimod.binary.BinaryQuadraticModel.from_qubo(Q_dict)"
   ],
   "metadata": {
    "collapsed": false,
    "ExecuteTime": {
     "start_time": "2024-11-18T16:17:53.310056Z"
    }
   },
   "id": "5499ee2bf55cb161"
  },
  {
   "cell_type": "markdown",
   "source": [
    "2. Embed the problem on DWave Advantage6.4. You need a token to access the Quantum Annealer."
   ],
   "metadata": {
    "collapsed": false
   },
   "id": "bd4d985cd8b8d351"
  },
  {
   "cell_type": "code",
   "execution_count": null,
   "outputs": [],
   "source": [
    "qpu = DWaveSampler(token='d-wave_access_token',\n",
    "                   solver={'name': 'Advantage_system6.4'})\n",
    "\n",
    "sampler = FixedEmbeddingComposite(qpu, embedding)"
   ],
   "metadata": {
    "collapsed": false,
    "ExecuteTime": {
     "start_time": "2024-11-18T16:17:53.317952Z"
    }
   },
   "id": "af1e155432807f41"
  },
  {
   "cell_type": "markdown",
   "source": [
    "3. Solve the instances with quantum annealing. We define the number of samples `num_reads` and the `annealing_time` (microseconds)"
   ],
   "metadata": {
    "collapsed": false
   },
   "id": "a64f656cf208e8cc"
  },
  {
   "cell_type": "code",
   "execution_count": null,
   "outputs": [],
   "source": [
    "num_reads = 50\n",
    "annealing_time = 20\n",
    "sampleset = sampler.sample(bqm,\n",
    "                           num_reads=num_reads,\n",
    "                           annealing_time=annealing_time)"
   ],
   "metadata": {
    "collapsed": false,
    "ExecuteTime": {
     "end_time": "2024-11-18T16:17:53.417951Z",
     "start_time": "2024-11-18T16:17:53.324558Z"
    }
   },
   "id": "4aa27a8550bb78be"
  },
  {
   "cell_type": "markdown",
   "source": [
    "We can solve the QUBO problem also with another solver, as Simulated Annealing"
   ],
   "metadata": {
    "collapsed": false
   },
   "id": "499489615a1a0c65"
  },
  {
   "cell_type": "code",
   "execution_count": null,
   "outputs": [],
   "source": [
    "from dwave.samplers import SimulatedAnnealingSampler\n",
    "\n",
    "num_reads = 50\n",
    "sampler = SimulatedAnnealingSampler()\n",
    "sampleset = sampler.sample(bqm, num_reads=num_reads)\n",
    "\n",
    "# Sample with the best value of the cost function\n",
    "first = sampleset.first\n",
    "print(first)"
   ],
   "metadata": {
    "collapsed": false,
    "ExecuteTime": {
     "start_time": "2024-11-18T16:17:53.332389Z"
    }
   },
   "id": "9692b92bc442c9a1"
  },
  {
   "cell_type": "markdown",
   "source": [
    "# Meta-Learning Dataset "
   ],
   "metadata": {
    "collapsed": false
   },
   "id": "b3bf1afc558a63d1"
  },
  {
   "cell_type": "code",
   "execution_count": null,
   "outputs": [],
   "source": [
    "metalearning_df = pd.read_csv('data/metalearning_dataset.csv', \n",
    "                              index_col=[0], header=[0,1])"
   ],
   "metadata": {
    "collapsed": false,
    "ExecuteTime": {
     "start_time": "2024-11-18T16:17:53.338067Z"
    }
   },
   "id": "48d015667a53b0b4"
  },
  {
   "cell_type": "markdown",
   "source": [
    "# Results of the Meta-models\n",
    "We access to the results of the meta-models trained over the small instances.\n",
    "Change `size_instances` to `'large'` to see the results for the large instances.\n"
   ],
   "metadata": {
    "collapsed": false
   },
   "id": "db98b884dd6e1643"
  },
  {
   "cell_type": "code",
   "execution_count": null,
   "outputs": [],
   "source": [
    "size_instances = 'small'\n",
    "metamodels_results_df = pd.read_csv(f'data/metamodels_results/{size_instances}/metamodels_results.csv',\n",
    "                                    index_col=[0,1],\n",
    "                                    header=[0,1,2])\n",
    "metamodels_results_df"
   ],
   "metadata": {
    "collapsed": false,
    "ExecuteTime": {
     "start_time": "2024-11-18T16:17:53.347828Z"
    }
   },
   "id": "899b9f807836238"
  },
  {
   "cell_type": "markdown",
   "source": [
    "# Training and testing a meta-model\n",
    "We give an example on how to train and test a meta-model with the Meta-Learning dataset.\n",
    "\n",
    "We train an AdaBoost meta-model with the `LogIsing` domain of the small instances, to predict the label `Optimal` for the Quantum Annealing (`QA`). We use balanced accuracy to evaluate the performance of the meta-model.\n",
    "Some features of this domain are not defined for some instances.\n",
    "In our work, we substitute the `nan` values of a certain feature `f` with the mean value of `f`. We do it also here. "
   ],
   "metadata": {
    "collapsed": false
   },
   "id": "b74edb719c96f6e9"
  },
  {
   "cell_type": "code",
   "execution_count": null,
   "outputs": [],
   "source": [
    "from sklearn.ensemble import AdaBoostClassifier\n",
    "from sklearn.metrics import balanced_accuracy_score\n",
    "from sklearn.preprocessing import MinMaxScaler\n",
    "\n",
    "# Features in the domain LogIsing\n",
    "domain = 'LogIsing'\n",
    "X = metalearning_df.loc[range(246), domain]\n",
    "\n",
    "# Target data\n",
    "target = ('Optimal', 'QA')\n",
    "y = metalearning_df.loc[range(246), target]\n",
    "\n",
    "# Replace not defined value in X with the mean values of the features\n",
    "a = np.isinf(X)\n",
    "X.replace([np.inf, -np.inf], np.nan, inplace=True)\n",
    "X.fillna(X.mean(), inplace=True)\n",
    "\n",
    "# Features are scaled in the range [0,1]\n",
    "scaler = MinMaxScaler()\n",
    "for col in X.columns:\n",
    "    transformed_col = scaler.fit_transform(pd.DataFrame(X.loc[:,col]))\n",
    "    X.loc[:,col] = transformed_col"
   ],
   "metadata": {
    "collapsed": false,
    "ExecuteTime": {
     "start_time": "2024-11-18T16:17:53.353551Z"
    }
   },
   "id": "c76c97a40929aca0"
  },
  {
   "cell_type": "markdown",
   "source": [
    "We generate two data splits: one contains the data used for the training (67% of the instances), the other contains the data used to test the meta-model (33% of the instances). In this example, we generate the stratified splits over the problem class."
   ],
   "metadata": {
    "collapsed": false
   },
   "id": "35995ec3b5ce9355"
  },
  {
   "cell_type": "code",
   "execution_count": null,
   "outputs": [],
   "source": [
    "from sklearn.model_selection import train_test_split\n",
    "\n",
    "test_size = 0.33\n",
    "problem = ('instance_id', 'problem')\n",
    "\n",
    "X_train, X_test, y_train, y_test = train_test_split(X, y.values, test_size=test_size, stratify= metalearning_df.loc[range(246), problem])"
   ],
   "metadata": {
    "collapsed": false,
    "ExecuteTime": {
     "start_time": "2024-11-18T16:17:53.357914Z"
    }
   },
   "id": "94136a1b5db3d0b"
  },
  {
   "cell_type": "markdown",
   "source": [
    "Now we train the model and compute its balanced_accuracy on the test split."
   ],
   "metadata": {
    "collapsed": false
   },
   "id": "99fdf81ed4b22094"
  },
  {
   "cell_type": "code",
   "execution_count": null,
   "outputs": [],
   "source": [
    "# Training of the meta-model\n",
    "model = AdaBoostClassifier()\n",
    "model.fit(X_train, y_train)\n",
    "\n",
    "# Testing of the meta-model\n",
    "y_predicted = model.predict(X_test)\n",
    "balanced_accuracy = balanced_accuracy_score(y_test, y_predicted)\n",
    "print(f'Balanced Accuracy of the meta-model: {balanced_accuracy}')"
   ],
   "metadata": {
    "collapsed": false,
    "ExecuteTime": {
     "start_time": "2024-11-18T16:17:53.361029Z"
    }
   },
   "id": "5c627fe353f87e2e"
  },
  {
   "cell_type": "markdown",
   "source": [
    "We can compute the importance of the features of the metamodel with permutation feature importance.\n",
    "Each feature is shuffled for `n_repeats = 100` times and the loss in the balanced accuracy is computed."
   ],
   "metadata": {
    "collapsed": false
   },
   "id": "5f134c4915c674d7"
  },
  {
   "cell_type": "code",
   "execution_count": null,
   "outputs": [],
   "source": [
    "from sklearn.inspection import permutation_importance\n",
    "\n",
    "permutation_importances = permutation_importance(model, X_test, y_test,\n",
    "                                                scoring='balanced_accuracy', n_repeats=100)"
   ],
   "metadata": {
    "collapsed": false,
    "ExecuteTime": {
     "start_time": "2024-11-18T16:17:53.366447Z"
    }
   },
   "id": "8be24f10d28ec59b"
  },
  {
   "cell_type": "code",
   "execution_count": null,
   "outputs": [],
   "source": [
    "feature_importances = {}\n",
    "for feature, importance  in zip(X.columns, permutation_importances.importances_mean):\n",
    "    feature_importances[feature] = importance\n",
    "    \n",
    "# We sort the feature from the most important one to the least important one\n",
    "print(f'FEATURE IMPORTANCES')\n",
    "for key in sorted(feature_importances, key=feature_importances.get, reverse=True):\n",
    "    print(f'{key}: {feature_importances[key]}')"
   ],
   "metadata": {
    "collapsed": false,
    "ExecuteTime": {
     "start_time": "2024-11-18T16:17:53.369215Z"
    }
   },
   "id": "650b0a921f47e17b"
  },
  {
   "cell_type": "markdown",
   "source": [
    "# Feature Importance\n",
    "We access to the results of the feature importance of the meta-models trained over the small instances.\n",
    "Change `size_instances` to `'large'` to see the results for the large instances."
   ],
   "metadata": {
    "collapsed": false
   },
   "id": "d484f4719022ee2a"
  },
  {
   "cell_type": "code",
   "execution_count": null,
   "outputs": [],
   "source": [
    "size_instances = 'small'\n",
    "feature_importance_df = pd.read_csv(f'data/feature_importance/{size_instances}/feature_importance.csv',\n",
    "                                    index_col=[0,1],\n",
    "                                    header=[0,1,2])\n",
    "feature_importance_df"
   ],
   "metadata": {
    "collapsed": false,
    "ExecuteTime": {
     "start_time": "2024-11-18T16:17:53.372663Z"
    }
   },
   "id": "38dd433b2b917be1"
  },
  {
   "cell_type": "markdown",
   "source": [
    "# Hamiltonian of the problem\n",
    "\n",
    "We compute the Hamiltonian of the problem $H_p$ starting from the QUBO matrix Q.\n",
    "We do so by using the following helper methods:"
   ],
   "metadata": {
    "collapsed": false
   },
   "id": "b64eb58f54109e70"
  },
  {
   "cell_type": "code",
   "execution_count": 5,
   "outputs": [],
   "source": [
    "from tqdm import tqdm\n",
    "import dimod as dmd\n",
    "\n",
    "def get_coupling_bias_offset(q):\n",
    "    \"\"\"\n",
    "    Calculates the diagonal of pauli matrix Z associated to qubit i\n",
    "\n",
    "    :param q: matrix q expressed as a dictionary\n",
    "    :return: bias b, coupling c and offset o\n",
    "    \"\"\"\n",
    "    b, c, o = dmd.utilities.qubo_to_ising(q)\n",
    "    return c, b, o\n",
    "\n",
    "def get_sigma_z_i_diag(i, n):\n",
    "    \"\"\"\n",
    "    Calculates the diagonal of pauli matrix Z associated to qubit i\n",
    "\n",
    "    :param i: qubit index 1...n\n",
    "    :param n: total number of qubits\n",
    "    :return: diagonal of the resulting matrix\n",
    "    \"\"\"\n",
    "\n",
    "    sigma_z = np.array([[1, 0],\n",
    "                        [0, -1]])\n",
    "\n",
    "    assert n > 0, \"Function is defined for n>0\"\n",
    "    assert i >= 0 and i < n, \"Function is defined for i>0 and i<=n\"\n",
    "\n",
    "    sigma_z_diag = sigma_z.diagonal()\n",
    "\n",
    "    # Initial sequence of Kronecker product from j=1 to i-1 results in identity matrix of shape 2^(i)x2^(i)\n",
    "    # The following product with sigma_z merely repeats sigma_z 2^(i) times on the diagonal\n",
    "    result = np.tile(sigma_z_diag, 2 ** (i))\n",
    "    \n",
    "    # Final sequence of Kronecker products from j=i+1 to n-1 results in repeating each element in the previous\n",
    "    # diagonal 2^(n-i) times\n",
    "    result = np.repeat(result, 2 ** (n - i - 1))\n",
    "    assert len(result) == 2 ** n\n",
    "    return result\n",
    "\n",
    "def dict_to_array(D, dim, n):\n",
    "    \"\"\"\n",
    "    \n",
    "    :param D: dictionary to transform into an array\n",
    "    :param dim: if dim=1, D represents a 1D vector, if dim=2 D represents a matrix \n",
    "    :param n: express the maximum length of the array of the shape of the matrix\n",
    "    :return: vector/matrix representation of D\n",
    "    \"\"\"\n",
    "    assert dim == 1 or dim == 2\n",
    "    keys = D.keys()\n",
    "    if dim == 2:\n",
    "        M = np.zeros([n, n])\n",
    "        for k in keys:\n",
    "            # assert type(k) == tuple and type(k[0]) == int and type(k[1]) == int\n",
    "            M[k[0], k[1]] = D[k]\n",
    "    elif dim == 1:\n",
    "        M = np.zeros(n)\n",
    "        i = 0\n",
    "        for k in keys:\n",
    "            M[i] = D[k]\n",
    "            i += 1\n",
    "    return M"
   ],
   "metadata": {
    "collapsed": false,
    "ExecuteTime": {
     "end_time": "2024-11-18T16:24:25.123741Z",
     "start_time": "2024-11-18T16:24:22.925572Z"
    }
   },
   "id": "8bdaf46df9cf7aa3"
  },
  {
   "cell_type": "markdown",
   "source": [
    "Since $H_p$ is diagonal, we need can compute only its diagonal:"
   ],
   "metadata": {
    "collapsed": false
   },
   "id": "112a67b001b9a8d3"
  },
  {
   "cell_type": "code",
   "execution_count": 6,
   "outputs": [],
   "source": [
    "def get_Hp(q):\n",
    "    \"\"\"\n",
    "    \n",
    "    :param q: QUBO matrix q\n",
    "    :return: diagonal of the Hamiltonian H_p\n",
    "    \"\"\"\n",
    "    n = len(q)\n",
    "    new_q = array_to_dict(q)\n",
    "    coupling, bias, offset = get_coupling_bias_offset(new_q)\n",
    "    coupling = dict_to_array(coupling, 2, n)\n",
    "    bias = dict_to_array(bias, 1, n)\n",
    "\n",
    "    H_bias = np.zeros(2 ** n)\n",
    "    H_coupling = np.zeros(2 ** n)\n",
    "    for i in tqdm(range(0, n)):\n",
    "        # print('We\\'re at {}'.format(i))\n",
    "        sigma_z_i = get_sigma_z_i_diag(i, n)\n",
    "        if bias[i] != 0:\n",
    "            H_bias += bias[i] * sigma_z_i\n",
    "        for j in range(0, n):\n",
    "            if j > 0:\n",
    "                H_coupling = H_coupling + coupling[(i, j)] * sigma_z_i * get_sigma_z_i_diag(j, n)\n",
    "\n",
    "    return H_bias + H_coupling, offset\n"
   ],
   "metadata": {
    "collapsed": false,
    "ExecuteTime": {
     "end_time": "2024-11-18T16:24:25.846021Z",
     "start_time": "2024-11-18T16:24:25.835241Z"
    }
   },
   "id": "711921aafdba6d04"
  },
  {
   "cell_type": "markdown",
   "source": [
    "We show a little example of computation of $H_p$ on the QUBO problem loaded at the beginning of this notebook. Consider that, since $Q$ is a $n \\times n$ matrix, the diagonal $H_p$ is a $2^n$ vector."
   ],
   "metadata": {
    "collapsed": false
   },
   "id": "833b6fd36825141"
  },
  {
   "cell_type": "code",
   "execution_count": null,
   "outputs": [],
   "source": [
    "hamiltonian = get_Hp(Q)"
   ],
   "metadata": {
    "collapsed": false
   },
   "id": "986d99f062e33181"
  }
 ],
 "metadata": {
  "kernelspec": {
   "display_name": "Python 3",
   "language": "python",
   "name": "python3"
  },
  "language_info": {
   "codemirror_mode": {
    "name": "ipython",
    "version": 2
   },
   "file_extension": ".py",
   "mimetype": "text/x-python",
   "name": "python",
   "nbconvert_exporter": "python",
   "pygments_lexer": "ipython2",
   "version": "2.7.6"
  }
 },
 "nbformat": 4,
 "nbformat_minor": 5
}
