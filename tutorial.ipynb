{
 "cells": [
  {
   "cell_type": "markdown",
   "source": [
    "# Packages needed to access data"
   ],
   "metadata": {
    "collapsed": false
   },
   "id": "fe4829c210d22c33"
  },
  {
   "cell_type": "code",
   "execution_count": 1,
   "id": "initial_id",
   "metadata": {
    "collapsed": true,
    "ExecuteTime": {
     "end_time": "2024-07-22T20:59:59.709379Z",
     "start_time": "2024-07-22T20:59:56.021003Z"
    }
   },
   "outputs": [],
   "source": [
    "import pandas as pd\n",
    "import numpy as np"
   ]
  },
  {
   "cell_type": "markdown",
   "source": [
    "# Retrieve QUBO matrix of an instance\n",
    "- How to retrieve the QUBO matrix of instance `id`?\n",
    "- Which problem class is `id` instance of?"
   ],
   "metadata": {
    "collapsed": false
   },
   "id": "9e4fbd8962ac1fad"
  },
  {
   "cell_type": "code",
   "execution_count": 2,
   "outputs": [
    {
     "name": "stdout",
     "output_type": "stream",
     "text": [
      "problem          NumPart\n",
      "structure      geometric\n",
      "n_variables           27\n",
      "repetition           0.0\n",
      "Name: 5, dtype: object\n"
     ]
    }
   ],
   "source": [
    "# Select instance with id = 5\n",
    "# By changing id, we can retrieve the QUBO matrix of other instances\n",
    "id = 5\n",
    "Q = pd.read_csv(f'data/qubo_dataset/{id}.csv', index_col=[0]).to_numpy()\n",
    "\n",
    "# The characteristics of the instance are stored in file map_index_to_instance.csv\n",
    "map_df = pd.read_csv('data/map_index_to_instance.csv', index_col=[0])\n",
    "print(map_df.loc[id])"
   ],
   "metadata": {
    "collapsed": false,
    "ExecuteTime": {
     "end_time": "2024-07-22T21:00:16.816373Z",
     "start_time": "2024-07-22T21:00:16.224210Z"
    }
   },
   "id": "e5728f15f2041110"
  },
  {
   "cell_type": "markdown",
   "source": [
    "# Solve an instance with Quantum Annealing\n",
    "We want to solve the instance 5 with quantum annealing.\n",
    "To do this, you need the `ocean-sdk`.\n",
    "To do so, we proceed with the following steps:\n",
    "1. Transform matrix `Q` into a Binary Quadratic Problem (BQM)\n",
    "2. Embed the BQM onto the quantum annealer\n",
    "3. Sample solutions\n",
    "\n",
    "We need the following packages:"
   ],
   "metadata": {
    "collapsed": false
   },
   "id": "e59333bfb2cd36c"
  },
  {
   "cell_type": "code",
   "execution_count": 3,
   "outputs": [],
   "source": [
    "import dimod\n",
    "from dwave.system import DWaveSampler, FixedEmbeddingComposite\n",
    "from ast import literal_eval"
   ],
   "metadata": {
    "collapsed": false,
    "ExecuteTime": {
     "end_time": "2024-07-22T21:00:59.960891Z",
     "start_time": "2024-07-22T21:00:18.515564Z"
    }
   },
   "id": "41669aae760a9f34"
  },
  {
   "cell_type": "markdown",
   "source": [
    "In the case we want to use a precomputed embedding, as one of those in the `embeddings` folder, we rely on these helper functions we have defined."
   ],
   "metadata": {
    "collapsed": false
   },
   "id": "9e68cd474b5fd269"
  },
  {
   "cell_type": "code",
   "execution_count": 5,
   "outputs": [
    {
     "name": "stdout",
     "output_type": "stream",
     "text": [
      "{0: [436, 3241, 435, 3242], 1: [510, 2987, 511, 2986], 2: [3182, 3180, 481, 3181], 3: [331, 330, 3286], 4: [3137, 3136, 3138, 556], 5: [585, 586, 3062, 3061], 6: [376, 377, 375], 7: [391, 392, 3226, 390], 8: [2972, 2971, 525, 526], 9: [3302, 3376, 420, 332, 421], 10: [3197, 3196, 3195, 240], 11: [480, 3031, 3030, 255], 12: [495, 3016, 3015, 496], 13: [3092, 3091, 615], 14: [3256, 316, 3257, 315], 15: [3152, 3153, 3151, 661], 16: [345, 3001, 346, 347], 17: [406, 405, 407, 3211], 18: [361, 360, 362], 19: [3121, 3122, 450], 20: [3046, 3045, 630, 3047], 21: [3076, 3077, 600], 22: [3436, 302, 301, 300], 23: [3316, 286, 3317, 285], 24: [271, 3271, 270, 3272], 25: [3168, 3166, 3167], 26: [465, 3106, 3107]}\n"
     ]
    }
   ],
   "source": [
    "from dwave.system import FixedEmbeddingComposite\n",
    "from ast import literal_eval\n",
    "\n",
    "# Return a dictionary containing the embedding of the instance.\n",
    "def extract_embedding(id):\n",
    "    dataframe = pd.read_csv(f'data/embeddings/{id}.csv', index_col=0, header=None, dtype=object)\n",
    "    dataframe[1] = dataframe[1].apply(lambda x: literal_eval(x))\n",
    "    dictionary = dataframe.to_dict()\n",
    "    return dictionary[1]\n",
    "\n",
    "embedding = extract_embedding(id)\n",
    "print(embedding)"
   ],
   "metadata": {
    "collapsed": false,
    "ExecuteTime": {
     "end_time": "2024-07-22T21:02:29.049657Z",
     "start_time": "2024-07-22T21:02:28.666315Z"
    }
   },
   "id": "bb0f5d0ea6caa732"
  },
  {
   "cell_type": "code",
   "execution_count": 6,
   "outputs": [
    {
     "name": "stdout",
     "output_type": "stream",
     "text": [
      "{(0, 0): -38496.0, (0, 1): 6848.0, (0, 2): 4928.0, (0, 3): 8320.0, (0, 4): 896.0, (0, 5): 768.0, (0, 6): 1728.0, (0, 7): 5760.0, (0, 8): 1472.0, (0, 9): 9600.0, (0, 10): 640.0, (0, 11): 2240.0, (0, 12): 2048.0, (0, 13): 576.0, (0, 14): 4928.0, (0, 15): 4032.0, (0, 16): 640.0, (0, 17): 1152.0, (0, 18): 2880.0, (0, 19): 640.0, (0, 20): 1216.0, (0, 21): 3968.0, (0, 22): 3968.0, (0, 23): 2432.0, (0, 24): 4224.0, (0, 25): 320.0, (0, 26): 768.0, (1, 1): -472512.0, (1, 2): 65912.0, (1, 3): 111280.0, (1, 4): 11984.0, (1, 5): 10272.0, (1, 6): 23112.0, (1, 7): 77040.0, (1, 8): 19688.0, (1, 9): 128400.0, (1, 10): 8560.0, (1, 11): 29960.0, (1, 12): 27392.0, (1, 13): 7704.0, (1, 14): 65912.0, (1, 15): 53928.0, (1, 16): 8560.0, (1, 17): 15408.0, (1, 18): 38520.0, (1, 19): 8560.0, (1, 20): 16264.0, (1, 21): 53072.0, (1, 22): 53072.0, (1, 23): 32528.0, (1, 24): 56496.0, (1, 25): 4280.0, (1, 26): 10272.0, (2, 2): -349272.0, (2, 3): 80080.0, (2, 4): 8624.0, (2, 5): 7392.0, (2, 6): 16632.0, (2, 7): 55440.0, (2, 8): 14168.0, (2, 9): 92400.0, (2, 10): 6160.0, (2, 11): 21560.0, (2, 12): 19712.0, (2, 13): 5544.0, (2, 14): 47432.0, (2, 15): 38808.0, (2, 16): 6160.0, (2, 17): 11088.0, (2, 18): 27720.0, (2, 19): 6160.0, (2, 20): 11704.0, (2, 21): 38192.0, (2, 22): 38192.0, (2, 23): 23408.0, (2, 24): 40656.0, (2, 25): 3080.0, (2, 26): 7392.0, (3, 3): -562120.0, (3, 4): 14560.0, (3, 5): 12480.0, (3, 6): 28080.0, (3, 7): 93600.0, (3, 8): 23920.0, (3, 9): 156000.0, (3, 10): 10400.0, (3, 11): 36400.0, (3, 12): 33280.0, (3, 13): 9360.0, (3, 14): 80080.0, (3, 15): 65520.0, (3, 16): 10400.0, (3, 17): 18720.0, (3, 18): 46800.0, (3, 19): 10400.0, (3, 20): 19760.0, (3, 21): 64480.0, (3, 22): 64480.0, (3, 23): 39520.0, (3, 24): 68640.0, (3, 25): 5200.0, (3, 26): 12480.0, (4, 4): -67032.0, (4, 5): 1344.0, (4, 6): 3024.0, (4, 7): 10080.0, (4, 8): 2576.0, (4, 9): 16800.0, (4, 10): 1120.0, (4, 11): 3920.0, (4, 12): 3584.0, (4, 13): 1008.0, (4, 14): 8624.0, (4, 15): 7056.0, (4, 16): 1120.0, (4, 17): 2016.0, (4, 18): 5040.0, (4, 19): 1120.0, (4, 20): 2128.0, (4, 21): 6944.0, (4, 22): 6944.0, (4, 23): 4256.0, (4, 24): 7392.0, (4, 25): 560.0, (4, 26): 1344.0, (5, 5): -57552.0, (5, 6): 2592.0, (5, 7): 8640.0, (5, 8): 2208.0, (5, 9): 14400.0, (5, 10): 960.0, (5, 11): 3360.0, (5, 12): 3072.0, (5, 13): 864.0, (5, 14): 7392.0, (5, 15): 6048.0, (5, 16): 960.0, (5, 17): 1728.0, (5, 18): 4320.0, (5, 19): 960.0, (5, 20): 1824.0, (5, 21): 5952.0, (5, 22): 5952.0, (5, 23): 3648.0, (5, 24): 6336.0, (5, 25): 480.0, (5, 26): 1152.0, (6, 6): -127872.0, (6, 7): 19440.0, (6, 8): 4968.0, (6, 9): 32400.0, (6, 10): 2160.0, (6, 11): 7560.0, (6, 12): 6912.0, (6, 13): 1944.0, (6, 14): 16632.0, (6, 15): 13608.0, (6, 16): 2160.0, (6, 17): 3888.0, (6, 18): 9720.0, (6, 19): 2160.0, (6, 20): 4104.0, (6, 21): 13392.0, (6, 22): 13392.0, (6, 23): 8208.0, (6, 24): 14256.0, (6, 25): 1080.0, (6, 26): 2592.0, (7, 7): -403560.0, (7, 8): 16560.0, (7, 9): 108000.0, (7, 10): 7200.0, (7, 11): 25200.0, (7, 12): 23040.0, (7, 13): 6480.0, (7, 14): 55440.0, (7, 15): 45360.0, (7, 16): 7200.0, (7, 17): 12960.0, (7, 18): 32400.0, (7, 19): 7200.0, (7, 20): 13680.0, (7, 21): 44640.0, (7, 22): 44640.0, (7, 23): 27360.0, (7, 24): 47520.0, (7, 25): 3600.0, (7, 26): 8640.0, (8, 8): -109296.0, (8, 9): 27600.0, (8, 10): 1840.0, (8, 11): 6440.0, (8, 12): 5888.0, (8, 13): 1656.0, (8, 14): 14168.0, (8, 15): 11592.0, (8, 16): 1840.0, (8, 17): 3312.0, (8, 18): 8280.0, (8, 19): 1840.0, (8, 20): 3496.0, (8, 21): 11408.0, (8, 22): 11408.0, (8, 23): 6992.0, (8, 24): 12144.0, (8, 25): 920.0, (8, 26): 2208.0, (9, 9): -636600.0, (9, 10): 12000.0, (9, 11): 42000.0, (9, 12): 38400.0, (9, 13): 10800.0, (9, 14): 92400.0, (9, 15): 75600.0, (9, 16): 12000.0, (9, 17): 21600.0, (9, 18): 54000.0, (9, 19): 12000.0, (9, 20): 22800.0, (9, 21): 74400.0, (9, 22): 74400.0, (9, 23): 45600.0, (9, 24): 79200.0, (9, 25): 6000.0, (9, 26): 14400.0, (10, 10): -48040.0, (10, 11): 2800.0, (10, 12): 2560.0, (10, 13): 720.0, (10, 14): 6160.0, (10, 15): 5040.0, (10, 16): 800.0, (10, 17): 1440.0, (10, 18): 3600.0, (10, 19): 800.0, (10, 20): 1520.0, (10, 21): 4960.0, (10, 22): 4960.0, (10, 23): 3040.0, (10, 24): 5280.0, (10, 25): 400.0, (10, 26): 960.0, (11, 11): -164640.0, (11, 12): 8960.0, (11, 13): 2520.0, (11, 14): 21560.0, (11, 15): 17640.0, (11, 16): 2800.0, (11, 17): 5040.0, (11, 18): 12600.0, (11, 19): 2800.0, (11, 20): 5320.0, (11, 21): 17360.0, (11, 22): 17360.0, (11, 23): 10640.0, (11, 24): 18480.0, (11, 25): 1400.0, (11, 26): 3360.0, (12, 12): -150912.0, (12, 13): 2304.0, (12, 14): 19712.0, (12, 15): 16128.0, (12, 16): 2560.0, (12, 17): 4608.0, (12, 18): 11520.0, (12, 19): 2560.0, (12, 20): 4864.0, (12, 21): 15872.0, (12, 22): 15872.0, (12, 23): 9728.0, (12, 24): 16896.0, (12, 25): 1280.0, (12, 26): 3072.0, (13, 13): -43272.0, (13, 14): 5544.0, (13, 15): 4536.0, (13, 16): 720.0, (13, 17): 1296.0, (13, 18): 3240.0, (13, 19): 720.0, (13, 20): 1368.0, (13, 21): 4464.0, (13, 22): 4464.0, (13, 23): 2736.0, (13, 24): 4752.0, (13, 25): 360.0, (13, 26): 864.0, (14, 14): -349272.0, (14, 15): 38808.0, (14, 16): 6160.0, (14, 17): 11088.0, (14, 18): 27720.0, (14, 19): 6160.0, (14, 20): 11704.0, (14, 21): 38192.0, (14, 22): 38192.0, (14, 23): 23408.0, (14, 24): 40656.0, (14, 25): 3080.0, (14, 26): 7392.0, (15, 15): -289296.0, (15, 16): 5040.0, (15, 17): 9072.0, (15, 18): 22680.0, (15, 19): 5040.0, (15, 20): 9576.0, (15, 21): 31248.0, (15, 22): 31248.0, (15, 23): 19152.0, (15, 24): 33264.0, (15, 25): 2520.0, (15, 26): 6048.0, (16, 16): -48040.0, (16, 17): 1440.0, (16, 18): 3600.0, (16, 19): 800.0, (16, 20): 1520.0, (16, 21): 4960.0, (16, 22): 4960.0, (16, 23): 3040.0, (16, 24): 5280.0, (16, 25): 400.0, (16, 26): 960.0, (17, 17): -85896.0, (17, 18): 6480.0, (17, 19): 1440.0, (17, 20): 2736.0, (17, 21): 8928.0, (17, 22): 8928.0, (17, 23): 5472.0, (17, 24): 9504.0, (17, 25): 720.0, (17, 26): 1728.0, (18, 18): -209880.0, (18, 19): 3600.0, (18, 20): 6840.0, (18, 21): 22320.0, (18, 22): 22320.0, (18, 23): 13680.0, (18, 24): 23760.0, (18, 25): 1800.0, (18, 26): 4320.0, (19, 19): -48040.0, (19, 20): 1520.0, (19, 21): 4960.0, (19, 22): 4960.0, (19, 23): 3040.0, (19, 24): 5280.0, (19, 25): 400.0, (19, 26): 960.0, (20, 20): -90592.0, (20, 21): 9424.0, (20, 22): 9424.0, (20, 23): 5776.0, (20, 24): 10032.0, (20, 25): 760.0, (20, 26): 1824.0, (21, 21): -284952.0, (21, 22): 30752.0, (21, 23): 18848.0, (21, 24): 32736.0, (21, 25): 2480.0, (21, 26): 5952.0, (22, 22): -284952.0, (22, 23): 18848.0, (22, 24): 32736.0, (22, 25): 2480.0, (22, 26): 5952.0, (23, 23): -178296.0, (23, 24): 20064.0, (23, 25): 1520.0, (23, 26): 3648.0, (24, 24): -302280.0, (24, 25): 2640.0, (24, 26): 6336.0, (25, 25): -24120.0, (25, 26): 480.0, (26, 26): -57552.0}\n"
     ]
    }
   ],
   "source": [
    "def array_to_dict(a):\n",
    "    n = len(a)\n",
    "    d = {}\n",
    "    for i in range(n):\n",
    "        for j in range(i, n):\n",
    "            if a[i, j] != 0:\n",
    "                d[(i, j)] = a[i, j]\n",
    "    return d\n",
    "\n",
    "Q_dict = array_to_dict(Q)\n",
    "print(Q_dict)"
   ],
   "metadata": {
    "collapsed": false,
    "ExecuteTime": {
     "end_time": "2024-07-22T21:02:34.124307Z",
     "start_time": "2024-07-22T21:02:33.797954Z"
    }
   },
   "id": "7a3ce0c95f5abb66"
  },
  {
   "cell_type": "markdown",
   "source": [
    "1. Transform the QUBO matrix into BQM format"
   ],
   "metadata": {
    "collapsed": false
   },
   "id": "f34f5ead29d25ca2"
  },
  {
   "cell_type": "code",
   "execution_count": 7,
   "outputs": [],
   "source": [
    "bqm = dimod.binary.BinaryQuadraticModel.from_qubo(Q_dict)"
   ],
   "metadata": {
    "collapsed": false,
    "ExecuteTime": {
     "end_time": "2024-07-22T21:03:05.691483Z",
     "start_time": "2024-07-22T21:03:05.676467Z"
    }
   },
   "id": "5499ee2bf55cb161"
  },
  {
   "cell_type": "markdown",
   "source": [
    "2. Embed the problem on DWave Advantage6.4. You need a token to access the Quantum Annealer."
   ],
   "metadata": {
    "collapsed": false
   },
   "id": "bd4d985cd8b8d351"
  },
  {
   "cell_type": "code",
   "execution_count": 8,
   "outputs": [
    {
     "ename": "SolverAuthenticationError",
     "evalue": "Invalid token or access denied",
     "output_type": "error",
     "traceback": [
      "\u001B[0;31m---------------------------------------------------------------------------\u001B[0m",
      "\u001B[0;31mSolverAuthenticationError\u001B[0m                 Traceback (most recent call last)",
      "Cell \u001B[0;32mIn[8], line 1\u001B[0m\n\u001B[0;32m----> 1\u001B[0m qpu \u001B[38;5;241m=\u001B[39m \u001B[43mDWaveSampler\u001B[49m\u001B[43m(\u001B[49m\u001B[43mtoken\u001B[49m\u001B[38;5;241;43m=\u001B[39;49m\u001B[38;5;124;43m'\u001B[39;49m\u001B[38;5;124;43md-wave_access_token\u001B[39;49m\u001B[38;5;124;43m'\u001B[39;49m\u001B[43m,\u001B[49m\n\u001B[1;32m      2\u001B[0m \u001B[43m                   \u001B[49m\u001B[43msolver\u001B[49m\u001B[38;5;241;43m=\u001B[39;49m\u001B[43m{\u001B[49m\u001B[38;5;124;43m'\u001B[39;49m\u001B[38;5;124;43mname\u001B[39;49m\u001B[38;5;124;43m'\u001B[39;49m\u001B[43m:\u001B[49m\u001B[43m \u001B[49m\u001B[38;5;124;43m'\u001B[39;49m\u001B[38;5;124;43mAdvantage_system6.4\u001B[39;49m\u001B[38;5;124;43m'\u001B[39;49m\u001B[43m}\u001B[49m\u001B[43m)\u001B[49m\n\u001B[1;32m      4\u001B[0m sampler \u001B[38;5;241m=\u001B[39m FixedEmbeddingComposite(qpu, embedding)\n",
      "File \u001B[0;32m~/opt/anaconda3/envs/QAMetaLearning/lib/python3.8/site-packages/dwave/system/samplers/dwave_sampler.py:185\u001B[0m, in \u001B[0;36mDWaveSampler.__init__\u001B[0;34m(self, failover, retry_interval, **config)\u001B[0m\n\u001B[1;32m    182\u001B[0m \u001B[38;5;28mself\u001B[39m\u001B[38;5;241m.\u001B[39m_solver_penalty \u001B[38;5;241m=\u001B[39m defaultdict(\u001B[38;5;28mint\u001B[39m)\n\u001B[1;32m    184\u001B[0m \u001B[38;5;28mself\u001B[39m\u001B[38;5;241m.\u001B[39mclient \u001B[38;5;241m=\u001B[39m Client\u001B[38;5;241m.\u001B[39mfrom_config(\u001B[38;5;241m*\u001B[39m\u001B[38;5;241m*\u001B[39mconfig)\n\u001B[0;32m--> 185\u001B[0m \u001B[38;5;28mself\u001B[39m\u001B[38;5;241m.\u001B[39msolver \u001B[38;5;241m=\u001B[39m \u001B[38;5;28;43mself\u001B[39;49m\u001B[38;5;241;43m.\u001B[39;49m\u001B[43m_get_solver\u001B[49m\u001B[43m(\u001B[49m\u001B[43mpenalty\u001B[49m\u001B[38;5;241;43m=\u001B[39;49m\u001B[38;5;28;43mself\u001B[39;49m\u001B[38;5;241;43m.\u001B[39;49m\u001B[43m_solver_penalty\u001B[49m\u001B[43m)\u001B[49m\n",
      "File \u001B[0;32m~/opt/anaconda3/envs/QAMetaLearning/lib/python3.8/site-packages/dwave/system/samplers/dwave_sampler.py:200\u001B[0m, in \u001B[0;36mDWaveSampler._get_solver\u001B[0;34m(self, refresh, penalty)\u001B[0m\n\u001B[1;32m    198\u001B[0m filters \u001B[38;5;241m=\u001B[39m copy\u001B[38;5;241m.\u001B[39mdeepcopy(\u001B[38;5;28mself\u001B[39m\u001B[38;5;241m.\u001B[39mclient\u001B[38;5;241m.\u001B[39mdefault_solver)\n\u001B[1;32m    199\u001B[0m order_by \u001B[38;5;241m=\u001B[39m filters\u001B[38;5;241m.\u001B[39mpop(\u001B[38;5;124m'\u001B[39m\u001B[38;5;124morder_by\u001B[39m\u001B[38;5;124m'\u001B[39m, \u001B[38;5;124m'\u001B[39m\u001B[38;5;124mavg_load\u001B[39m\u001B[38;5;124m'\u001B[39m)\n\u001B[0;32m--> 200\u001B[0m solvers \u001B[38;5;241m=\u001B[39m \u001B[38;5;28;43mself\u001B[39;49m\u001B[38;5;241;43m.\u001B[39;49m\u001B[43mclient\u001B[49m\u001B[38;5;241;43m.\u001B[39;49m\u001B[43mget_solvers\u001B[49m\u001B[43m(\u001B[49m\u001B[43mrefresh\u001B[49m\u001B[38;5;241;43m=\u001B[39;49m\u001B[43mrefresh\u001B[49m\u001B[43m,\u001B[49m\u001B[43m \u001B[49m\u001B[43morder_by\u001B[49m\u001B[38;5;241;43m=\u001B[39;49m\u001B[43morder_by\u001B[49m\u001B[43m,\u001B[49m\u001B[43m \u001B[49m\u001B[38;5;241;43m*\u001B[39;49m\u001B[38;5;241;43m*\u001B[39;49m\u001B[43mfilters\u001B[49m\u001B[43m)\u001B[49m\n\u001B[1;32m    202\u001B[0m \u001B[38;5;66;03m# we now just need to de-prioritize penalized solvers\u001B[39;00m\n\u001B[1;32m    203\u001B[0m solvers\u001B[38;5;241m.\u001B[39msort(key\u001B[38;5;241m=\u001B[39m\u001B[38;5;28;01mlambda\u001B[39;00m solver: penalty\u001B[38;5;241m.\u001B[39mget(solver\u001B[38;5;241m.\u001B[39mid, \u001B[38;5;241m0\u001B[39m))\n",
      "File \u001B[0;32m~/opt/anaconda3/envs/QAMetaLearning/lib/python3.8/site-packages/dwave/cloud/events.py:105\u001B[0m, in \u001B[0;36mdispatches_events.__call__.<locals>.wrapped\u001B[0;34m(*pargs, **kwargs)\u001B[0m\n\u001B[1;32m    103\u001B[0m dispatch_event(\u001B[38;5;28mself\u001B[39m\u001B[38;5;241m.\u001B[39mbefore_eventname, obj\u001B[38;5;241m=\u001B[39mobj, args\u001B[38;5;241m=\u001B[39margs)\n\u001B[1;32m    104\u001B[0m \u001B[38;5;28;01mtry\u001B[39;00m:\n\u001B[0;32m--> 105\u001B[0m     rval \u001B[38;5;241m=\u001B[39m \u001B[43mfn\u001B[49m\u001B[43m(\u001B[49m\u001B[38;5;241;43m*\u001B[39;49m\u001B[43mpargs\u001B[49m\u001B[43m,\u001B[49m\u001B[43m \u001B[49m\u001B[38;5;241;43m*\u001B[39;49m\u001B[38;5;241;43m*\u001B[39;49m\u001B[43mkwargs\u001B[49m\u001B[43m)\u001B[49m\n\u001B[1;32m    106\u001B[0m \u001B[38;5;28;01mexcept\u001B[39;00m \u001B[38;5;167;01mException\u001B[39;00m \u001B[38;5;28;01mas\u001B[39;00m exc:\n\u001B[1;32m    107\u001B[0m     dispatch_event(\u001B[38;5;28mself\u001B[39m\u001B[38;5;241m.\u001B[39mafter_eventname, obj\u001B[38;5;241m=\u001B[39mobj, args\u001B[38;5;241m=\u001B[39margs, exception\u001B[38;5;241m=\u001B[39mexc)\n",
      "File \u001B[0;32m~/opt/anaconda3/envs/QAMetaLearning/lib/python3.8/site-packages/dwave/cloud/client/base.py:1173\u001B[0m, in \u001B[0;36mClient.get_solvers\u001B[0;34m(self, refresh, order_by, **filters)\u001B[0m\n\u001B[1;32m   1170\u001B[0m     query[\u001B[38;5;124m'\u001B[39m\u001B[38;5;124mname\u001B[39m\u001B[38;5;124m'\u001B[39m] \u001B[38;5;241m=\u001B[39m filters[\u001B[38;5;124m'\u001B[39m\u001B[38;5;124mname__eq\u001B[39m\u001B[38;5;124m'\u001B[39m]\n\u001B[1;32m   1172\u001B[0m \u001B[38;5;66;03m# filter\u001B[39;00m\n\u001B[0;32m-> 1173\u001B[0m solvers \u001B[38;5;241m=\u001B[39m \u001B[38;5;28;43mself\u001B[39;49m\u001B[38;5;241;43m.\u001B[39;49m\u001B[43m_fetch_solvers\u001B[49m\u001B[43m(\u001B[49m\u001B[38;5;241;43m*\u001B[39;49m\u001B[38;5;241;43m*\u001B[39;49m\u001B[43mquery\u001B[49m\u001B[43m)\u001B[49m\n\u001B[1;32m   1174\u001B[0m solvers \u001B[38;5;241m=\u001B[39m [s \u001B[38;5;28;01mfor\u001B[39;00m s \u001B[38;5;129;01min\u001B[39;00m solvers \u001B[38;5;28;01mif\u001B[39;00m \u001B[38;5;28mall\u001B[39m(p(s) \u001B[38;5;28;01mfor\u001B[39;00m p \u001B[38;5;129;01min\u001B[39;00m predicates)]\n\u001B[1;32m   1176\u001B[0m \u001B[38;5;66;03m# sort: undefined (None) key values go last\u001B[39;00m\n",
      "File \u001B[0;32m~/opt/anaconda3/envs/QAMetaLearning/lib/python3.8/site-packages/dwave/cloud/utils.py:489\u001B[0m, in \u001B[0;36mcached.__call__.<locals>.wrapper\u001B[0;34m(*args, **kwargs)\u001B[0m\n\u001B[1;32m    487\u001B[0m     val \u001B[38;5;241m=\u001B[39m data\u001B[38;5;241m.\u001B[39mget(\u001B[38;5;124m'\u001B[39m\u001B[38;5;124mval\u001B[39m\u001B[38;5;124m'\u001B[39m)\n\u001B[1;32m    488\u001B[0m \u001B[38;5;28;01melse\u001B[39;00m:\n\u001B[0;32m--> 489\u001B[0m     val \u001B[38;5;241m=\u001B[39m \u001B[43mfn\u001B[49m\u001B[43m(\u001B[49m\u001B[38;5;241;43m*\u001B[39;49m\u001B[43margs\u001B[49m\u001B[43m,\u001B[49m\u001B[43m \u001B[49m\u001B[38;5;241;43m*\u001B[39;49m\u001B[38;5;241;43m*\u001B[39;49m\u001B[43mkwargs\u001B[49m\u001B[43m)\u001B[49m\n\u001B[1;32m    490\u001B[0m     \u001B[38;5;28mself\u001B[39m\u001B[38;5;241m.\u001B[39mcache[key] \u001B[38;5;241m=\u001B[39m \u001B[38;5;28mdict\u001B[39m(expires\u001B[38;5;241m=\u001B[39mnow\u001B[38;5;241m+\u001B[39m\u001B[38;5;28mself\u001B[39m\u001B[38;5;241m.\u001B[39mmaxage, val\u001B[38;5;241m=\u001B[39mval)\n\u001B[1;32m    492\u001B[0m \u001B[38;5;28;01mreturn\u001B[39;00m val\n",
      "File \u001B[0;32m~/opt/anaconda3/envs/QAMetaLearning/lib/python3.8/site-packages/dwave/cloud/client/base.py:807\u001B[0m, in \u001B[0;36mClient._fetch_solvers\u001B[0;34m(self, name)\u001B[0m\n\u001B[1;32m    804\u001B[0m     url \u001B[38;5;241m=\u001B[39m \u001B[38;5;124m'\u001B[39m\u001B[38;5;124msolvers/remote/\u001B[39m\u001B[38;5;124m'\u001B[39m\n\u001B[1;32m    806\u001B[0m \u001B[38;5;28;01mtry\u001B[39;00m:\n\u001B[0;32m--> 807\u001B[0m     data \u001B[38;5;241m=\u001B[39m \u001B[43mClient\u001B[49m\u001B[38;5;241;43m.\u001B[39;49m\u001B[43m_sapi_request\u001B[49m\u001B[43m(\u001B[49m\u001B[38;5;28;43mself\u001B[39;49m\u001B[38;5;241;43m.\u001B[39;49m\u001B[43msession\u001B[49m\u001B[38;5;241;43m.\u001B[39;49m\u001B[43mget\u001B[49m\u001B[43m,\u001B[49m\u001B[43m \u001B[49m\u001B[43murl\u001B[49m\u001B[43m)\u001B[49m\n\u001B[1;32m    808\u001B[0m \u001B[38;5;28;01mexcept\u001B[39;00m SAPIError \u001B[38;5;28;01mas\u001B[39;00m exc:\n\u001B[1;32m    809\u001B[0m     \u001B[38;5;28;01mif\u001B[39;00m name \u001B[38;5;129;01mis\u001B[39;00m \u001B[38;5;129;01mnot\u001B[39;00m \u001B[38;5;28;01mNone\u001B[39;00m \u001B[38;5;129;01mand\u001B[39;00m exc\u001B[38;5;241m.\u001B[39merror_code \u001B[38;5;241m==\u001B[39m \u001B[38;5;241m404\u001B[39m:\n",
      "File \u001B[0;32m~/opt/anaconda3/envs/QAMetaLearning/lib/python3.8/site-packages/dwave/cloud/client/base.py:1798\u001B[0m, in \u001B[0;36mClient._sapi_request\u001B[0;34m(meth, *args, **kwargs)\u001B[0m\n\u001B[1;32m   1796\u001B[0m \u001B[38;5;28;01melse\u001B[39;00m:\n\u001B[1;32m   1797\u001B[0m     \u001B[38;5;28;01mif\u001B[39;00m response\u001B[38;5;241m.\u001B[39mstatus_code \u001B[38;5;241m==\u001B[39m \u001B[38;5;241m401\u001B[39m:\n\u001B[0;32m-> 1798\u001B[0m         \u001B[38;5;28;01mraise\u001B[39;00m SolverAuthenticationError(error_code\u001B[38;5;241m=\u001B[39m\u001B[38;5;241m401\u001B[39m)\n\u001B[1;32m   1800\u001B[0m     \u001B[38;5;28;01mtry\u001B[39;00m:\n\u001B[1;32m   1801\u001B[0m         msg \u001B[38;5;241m=\u001B[39m response\u001B[38;5;241m.\u001B[39mjson()\n",
      "\u001B[0;31mSolverAuthenticationError\u001B[0m: Invalid token or access denied"
     ]
    }
   ],
   "source": [
    "qpu = DWaveSampler(token='d-wave_access_token',\n",
    "                   solver={'name': 'Advantage_system6.4'})\n",
    "\n",
    "sampler = FixedEmbeddingComposite(qpu, embedding)"
   ],
   "metadata": {
    "collapsed": false,
    "ExecuteTime": {
     "end_time": "2024-07-22T21:03:11.265693Z",
     "start_time": "2024-07-22T21:03:08.202255Z"
    }
   },
   "id": "af1e155432807f41"
  },
  {
   "cell_type": "markdown",
   "source": [
    "3. Solve the instances with quantum annealing. We define the number of samples `num_reads` and the `annealing_time` (microseconds)"
   ],
   "metadata": {
    "collapsed": false
   },
   "id": "a64f656cf208e8cc"
  },
  {
   "cell_type": "code",
   "execution_count": 9,
   "outputs": [
    {
     "ename": "NameError",
     "evalue": "name 'sampler' is not defined",
     "output_type": "error",
     "traceback": [
      "\u001B[0;31m---------------------------------------------------------------------------\u001B[0m",
      "\u001B[0;31mNameError\u001B[0m                                 Traceback (most recent call last)",
      "Cell \u001B[0;32mIn[9], line 3\u001B[0m\n\u001B[1;32m      1\u001B[0m num_reads \u001B[38;5;241m=\u001B[39m \u001B[38;5;241m50\u001B[39m\n\u001B[1;32m      2\u001B[0m annealing_time \u001B[38;5;241m=\u001B[39m \u001B[38;5;241m20\u001B[39m\n\u001B[0;32m----> 3\u001B[0m sampleset \u001B[38;5;241m=\u001B[39m \u001B[43msampler\u001B[49m\u001B[38;5;241m.\u001B[39msample(bqm,\n\u001B[1;32m      4\u001B[0m                            num_reads\u001B[38;5;241m=\u001B[39mnum_reads,\n\u001B[1;32m      5\u001B[0m                            annealing_time\u001B[38;5;241m=\u001B[39mannealing_time)\n",
      "\u001B[0;31mNameError\u001B[0m: name 'sampler' is not defined"
     ]
    }
   ],
   "source": [
    "num_reads = 50\n",
    "annealing_time = 20\n",
    "sampleset = sampler.sample(bqm,\n",
    "                           num_reads=num_reads,\n",
    "                           annealing_time=annealing_time)"
   ],
   "metadata": {
    "collapsed": false,
    "ExecuteTime": {
     "end_time": "2024-07-22T21:03:15.475583Z",
     "start_time": "2024-07-22T21:03:15.268383Z"
    }
   },
   "id": "4aa27a8550bb78be"
  },
  {
   "cell_type": "markdown",
   "source": [
    "We can solve the QUBO problem also with another solver, as Simulated Annealing"
   ],
   "metadata": {
    "collapsed": false
   },
   "id": "499489615a1a0c65"
  },
  {
   "cell_type": "code",
   "execution_count": 10,
   "outputs": [
    {
     "name": "stdout",
     "output_type": "stream",
     "text": [
      "Sample(sample={0: 0, 1: 0, 2: 0, 3: 1, 4: 1, 5: 1, 6: 0, 7: 1, 8: 0, 9: 1, 10: 1, 11: 1, 12: 1, 13: 1, 14: 0, 15: 0, 16: 0, 17: 1, 18: 1, 19: 1, 20: 0, 21: 0, 22: 0, 23: 1, 24: 0, 25: 0, 26: 1}, energy=-1466520.0, num_occurrences=1)\n"
     ]
    }
   ],
   "source": [
    "from dwave.samplers import SimulatedAnnealingSampler\n",
    "\n",
    "num_reads = 50\n",
    "sampler = SimulatedAnnealingSampler()\n",
    "sampleset = sampler.sample(bqm, num_reads=num_reads)\n",
    "\n",
    "# Sample with the best value of the cost function\n",
    "first = sampleset.first\n",
    "print(first)"
   ],
   "metadata": {
    "collapsed": false,
    "ExecuteTime": {
     "end_time": "2024-07-22T21:03:22.419606Z",
     "start_time": "2024-07-22T21:03:21.856140Z"
    }
   },
   "id": "9692b92bc442c9a1"
  },
  {
   "cell_type": "markdown",
   "source": [
    "# Meta-Learning Dataset "
   ],
   "metadata": {
    "collapsed": false
   },
   "id": "b3bf1afc558a63d1"
  },
  {
   "cell_type": "code",
   "execution_count": 11,
   "outputs": [],
   "source": [
    "metalearning_df = pd.read_csv('data/metalearning_dataset.csv', \n",
    "                              index_col=[0], header=[0,1])"
   ],
   "metadata": {
    "collapsed": false,
    "ExecuteTime": {
     "end_time": "2024-07-22T21:03:26.698718Z",
     "start_time": "2024-07-22T21:03:25.217097Z"
    }
   },
   "id": "48d015667a53b0b4"
  },
  {
   "cell_type": "markdown",
   "source": [
    "# Results of the Meta-models\n",
    "We access to the results of the meta-models trained over the small instances.\n",
    "Change `size_instances` to `'large'` to see the results for the large instances.\n"
   ],
   "metadata": {
    "collapsed": false
   },
   "id": "db98b884dd6e1643"
  },
  {
   "cell_type": "code",
   "execution_count": 13,
   "outputs": [
    {
     "data": {
      "text/plain": "                          SolSpace                                          \\\n                     random_forest                               ada_boost   \n                 balanced_accuracy balanced_accuracy_std balanced_accuracy   \nOptimal       QA          0.831689              0.041702          0.931043   \n              SA          0.798153              0.042767          0.883321   \n              TS          0.562393              0.124786          0.842185   \n              SD          0.635526              0.166419          0.932313   \n1e-05-Optimal QA          0.808595              0.052460          0.901260   \n              SA          0.761394              0.145934          0.831602   \n              TS          0.500000              0.000000          0.674394   \n              SD          0.500000              0.000000          0.995652   \nh-Optimal     QA          0.849755              0.058660          0.912513   \n              SA          0.627381              0.160056          0.859777   \n              TS          0.555556              0.111111          0.760435   \n              SD          0.571429              0.142857          0.871288   \nQA_over_all   QA          0.771145              0.144465          0.892312   \n\n                                                          \\\n                                                xg_boost   \n                 balanced_accuracy_std balanced_accuracy   \nOptimal       QA              0.021284          0.780131   \n              SA              0.064577          0.889369   \n              TS              0.016849          0.821154   \n              SD              0.047173          0.887946   \n1e-05-Optimal QA              0.061130          0.888051   \n              SA              0.110641          0.848864   \n              TS              0.048110          0.709141   \n              SD              0.008696          0.581159   \nh-Optimal     QA              0.039050          0.915962   \n              SA              0.080269          0.858711   \n              TS              0.053745          0.784178   \n              SD              0.045756          0.875833   \nQA_over_all   QA              0.015488          0.849080   \n\n                                                            \\\n                                       logistic_regression   \n                 balanced_accuracy_std   balanced_accuracy   \nOptimal       QA              0.131359            0.767226   \n              SA              0.058073            0.572443   \n              TS              0.038550            0.551099   \n              SD              0.044423            0.553788   \n1e-05-Optimal QA              0.069972            0.739523   \n              SA              0.058090            0.500000   \n              TS              0.137541            0.500000   \n              SD              0.103768            0.500000   \nh-Optimal     QA              0.037280            0.568867   \n              SA              0.067179            0.529125   \n              TS              0.073078            0.562500   \n              SD              0.047230            0.585714   \nQA_over_all   QA              0.086994            0.768470   \n\n                                                  NorMul  \\\n                                           random_forest   \n                 balanced_accuracy_std balanced_accuracy   \nOptimal       QA              0.056834          0.714251   \n              SA              0.041964          0.622869   \n              TS              0.070355          0.664766   \n              SD              0.088231          0.644158   \n1e-05-Optimal QA              0.114090          0.686531   \n              SA              0.000000          0.531176   \n              TS              0.000000          0.500000   \n              SD              0.000000          0.500000   \nh-Optimal     QA              0.031252          0.722727   \n              SA              0.033097          0.611199   \n              TS              0.096825          0.500000   \n              SD              0.138505          0.632143   \nQA_over_all   QA              0.052562          0.710831   \n\n                                        ...           StructAdj  \\\n                                        ... logistic_regression   \n                 balanced_accuracy_std  ...   balanced_accuracy   \nOptimal       QA              0.115509  ...            0.715375   \n              SA              0.072078  ...            0.640962   \n              TS              0.201879  ...            0.585965   \n              SD              0.178213  ...            0.550182   \n1e-05-Optimal QA              0.134955  ...            0.622664   \n              SA              0.062353  ...            0.764599   \n              TS              0.000000  ...            0.500000   \n              SD              0.000000  ...            0.500000   \nh-Optimal     QA              0.050988  ...            0.598461   \n              SA              0.136303  ...            0.632562   \n              TS              0.000000  ...            0.500000   \n              SD              0.117393  ...            0.500000   \nQA_over_all   QA              0.133511  ...            0.712843   \n\n                                               StructLap  \\\n                                           random_forest   \n                 balanced_accuracy_std balanced_accuracy   \nOptimal       QA              0.038538          0.614620   \n              SA              0.075198          0.596415   \n              TS              0.039236          0.650792   \n              SD              0.030519          0.727986   \n1e-05-Optimal QA              0.059318          0.610218   \n              SA              0.089365          0.522010   \n              TS              0.000000          0.500000   \n              SD              0.000000          0.500000   \nh-Optimal     QA              0.049990          0.571946   \n              SA              0.084394          0.558043   \n              TS              0.000000          0.500000   \n              SD              0.000000          0.500000   \nQA_over_all   QA              0.040571          0.596851   \n\n                                                          \\\n                                               ada_boost   \n                 balanced_accuracy_std balanced_accuracy   \nOptimal       QA              0.142103          0.762628   \n              SA              0.100883          0.640301   \n              TS              0.128417          0.783643   \n              SD              0.125522          0.806677   \n1e-05-Optimal QA              0.069208          0.630787   \n              SA              0.044019          0.736451   \n              TS              0.000000          0.548788   \n              SD              0.000000          0.500000   \nh-Optimal     QA              0.102332          0.662170   \n              SA              0.048145          0.676514   \n              TS              0.000000          0.538145   \n              SD              0.000000          0.500000   \nQA_over_all   QA              0.133777          0.759082   \n\n                                                          \\\n                                                xg_boost   \n                 balanced_accuracy_std balanced_accuracy   \nOptimal       QA              0.044776          0.728524   \n              SA              0.049285          0.678252   \n              TS              0.057363          0.734498   \n              SD              0.068415          0.784546   \n1e-05-Optimal QA              0.047865          0.689947   \n              SA              0.084893          0.772034   \n              TS              0.063363          0.515229   \n              SD              0.000000          0.500000   \nh-Optimal     QA              0.054674          0.763139   \n              SA              0.071259          0.649170   \n              TS              0.051383          0.689328   \n              SD              0.000000          0.768745   \nQA_over_all   QA              0.047382          0.734937   \n\n                                                            \\\n                                       logistic_regression   \n                 balanced_accuracy_std   balanced_accuracy   \nOptimal       QA              0.092266            0.763771   \n              SA              0.046675            0.672688   \n              TS              0.071540            0.633343   \n              SD              0.043748            0.611714   \n1e-05-Optimal QA              0.084470            0.688505   \n              SA              0.068930            0.772435   \n              TS              0.048635            0.500000   \n              SD              0.000000            0.500000   \nh-Optimal     QA              0.038796            0.621548   \n              SA              0.023409            0.638972   \n              TS              0.052125            0.500000   \n              SD              0.058324            0.500000   \nQA_over_all   QA              0.065145            0.760076   \n\n                                        \n                                        \n                 balanced_accuracy_std  \nOptimal       QA              0.045323  \n              SA              0.063583  \n              TS              0.050595  \n              SD              0.052556  \n1e-05-Optimal QA              0.057454  \n              SA              0.118989  \n              TS              0.000000  \n              SD              0.000000  \nh-Optimal     QA              0.041019  \n              SA              0.051429  \n              TS              0.000000  \n              SD              0.000000  \nQA_over_all   QA              0.043536  \n\n[13 rows x 96 columns]",
      "text/html": "<div>\n<style scoped>\n    .dataframe tbody tr th:only-of-type {\n        vertical-align: middle;\n    }\n\n    .dataframe tbody tr th {\n        vertical-align: top;\n    }\n\n    .dataframe thead tr th {\n        text-align: left;\n    }\n</style>\n<table border=\"1\" class=\"dataframe\">\n  <thead>\n    <tr>\n      <th></th>\n      <th></th>\n      <th colspan=\"8\" halign=\"left\">SolSpace</th>\n      <th colspan=\"2\" halign=\"left\">NorMul</th>\n      <th>...</th>\n      <th colspan=\"2\" halign=\"left\">StructAdj</th>\n      <th colspan=\"8\" halign=\"left\">StructLap</th>\n    </tr>\n    <tr>\n      <th></th>\n      <th></th>\n      <th colspan=\"2\" halign=\"left\">random_forest</th>\n      <th colspan=\"2\" halign=\"left\">ada_boost</th>\n      <th colspan=\"2\" halign=\"left\">xg_boost</th>\n      <th colspan=\"2\" halign=\"left\">logistic_regression</th>\n      <th colspan=\"2\" halign=\"left\">random_forest</th>\n      <th>...</th>\n      <th colspan=\"2\" halign=\"left\">logistic_regression</th>\n      <th colspan=\"2\" halign=\"left\">random_forest</th>\n      <th colspan=\"2\" halign=\"left\">ada_boost</th>\n      <th colspan=\"2\" halign=\"left\">xg_boost</th>\n      <th colspan=\"2\" halign=\"left\">logistic_regression</th>\n    </tr>\n    <tr>\n      <th></th>\n      <th></th>\n      <th>balanced_accuracy</th>\n      <th>balanced_accuracy_std</th>\n      <th>balanced_accuracy</th>\n      <th>balanced_accuracy_std</th>\n      <th>balanced_accuracy</th>\n      <th>balanced_accuracy_std</th>\n      <th>balanced_accuracy</th>\n      <th>balanced_accuracy_std</th>\n      <th>balanced_accuracy</th>\n      <th>balanced_accuracy_std</th>\n      <th>...</th>\n      <th>balanced_accuracy</th>\n      <th>balanced_accuracy_std</th>\n      <th>balanced_accuracy</th>\n      <th>balanced_accuracy_std</th>\n      <th>balanced_accuracy</th>\n      <th>balanced_accuracy_std</th>\n      <th>balanced_accuracy</th>\n      <th>balanced_accuracy_std</th>\n      <th>balanced_accuracy</th>\n      <th>balanced_accuracy_std</th>\n    </tr>\n  </thead>\n  <tbody>\n    <tr>\n      <th rowspan=\"4\" valign=\"top\">Optimal</th>\n      <th>QA</th>\n      <td>0.831689</td>\n      <td>0.041702</td>\n      <td>0.931043</td>\n      <td>0.021284</td>\n      <td>0.780131</td>\n      <td>0.131359</td>\n      <td>0.767226</td>\n      <td>0.056834</td>\n      <td>0.714251</td>\n      <td>0.115509</td>\n      <td>...</td>\n      <td>0.715375</td>\n      <td>0.038538</td>\n      <td>0.614620</td>\n      <td>0.142103</td>\n      <td>0.762628</td>\n      <td>0.044776</td>\n      <td>0.728524</td>\n      <td>0.092266</td>\n      <td>0.763771</td>\n      <td>0.045323</td>\n    </tr>\n    <tr>\n      <th>SA</th>\n      <td>0.798153</td>\n      <td>0.042767</td>\n      <td>0.883321</td>\n      <td>0.064577</td>\n      <td>0.889369</td>\n      <td>0.058073</td>\n      <td>0.572443</td>\n      <td>0.041964</td>\n      <td>0.622869</td>\n      <td>0.072078</td>\n      <td>...</td>\n      <td>0.640962</td>\n      <td>0.075198</td>\n      <td>0.596415</td>\n      <td>0.100883</td>\n      <td>0.640301</td>\n      <td>0.049285</td>\n      <td>0.678252</td>\n      <td>0.046675</td>\n      <td>0.672688</td>\n      <td>0.063583</td>\n    </tr>\n    <tr>\n      <th>TS</th>\n      <td>0.562393</td>\n      <td>0.124786</td>\n      <td>0.842185</td>\n      <td>0.016849</td>\n      <td>0.821154</td>\n      <td>0.038550</td>\n      <td>0.551099</td>\n      <td>0.070355</td>\n      <td>0.664766</td>\n      <td>0.201879</td>\n      <td>...</td>\n      <td>0.585965</td>\n      <td>0.039236</td>\n      <td>0.650792</td>\n      <td>0.128417</td>\n      <td>0.783643</td>\n      <td>0.057363</td>\n      <td>0.734498</td>\n      <td>0.071540</td>\n      <td>0.633343</td>\n      <td>0.050595</td>\n    </tr>\n    <tr>\n      <th>SD</th>\n      <td>0.635526</td>\n      <td>0.166419</td>\n      <td>0.932313</td>\n      <td>0.047173</td>\n      <td>0.887946</td>\n      <td>0.044423</td>\n      <td>0.553788</td>\n      <td>0.088231</td>\n      <td>0.644158</td>\n      <td>0.178213</td>\n      <td>...</td>\n      <td>0.550182</td>\n      <td>0.030519</td>\n      <td>0.727986</td>\n      <td>0.125522</td>\n      <td>0.806677</td>\n      <td>0.068415</td>\n      <td>0.784546</td>\n      <td>0.043748</td>\n      <td>0.611714</td>\n      <td>0.052556</td>\n    </tr>\n    <tr>\n      <th rowspan=\"4\" valign=\"top\">1e-05-Optimal</th>\n      <th>QA</th>\n      <td>0.808595</td>\n      <td>0.052460</td>\n      <td>0.901260</td>\n      <td>0.061130</td>\n      <td>0.888051</td>\n      <td>0.069972</td>\n      <td>0.739523</td>\n      <td>0.114090</td>\n      <td>0.686531</td>\n      <td>0.134955</td>\n      <td>...</td>\n      <td>0.622664</td>\n      <td>0.059318</td>\n      <td>0.610218</td>\n      <td>0.069208</td>\n      <td>0.630787</td>\n      <td>0.047865</td>\n      <td>0.689947</td>\n      <td>0.084470</td>\n      <td>0.688505</td>\n      <td>0.057454</td>\n    </tr>\n    <tr>\n      <th>SA</th>\n      <td>0.761394</td>\n      <td>0.145934</td>\n      <td>0.831602</td>\n      <td>0.110641</td>\n      <td>0.848864</td>\n      <td>0.058090</td>\n      <td>0.500000</td>\n      <td>0.000000</td>\n      <td>0.531176</td>\n      <td>0.062353</td>\n      <td>...</td>\n      <td>0.764599</td>\n      <td>0.089365</td>\n      <td>0.522010</td>\n      <td>0.044019</td>\n      <td>0.736451</td>\n      <td>0.084893</td>\n      <td>0.772034</td>\n      <td>0.068930</td>\n      <td>0.772435</td>\n      <td>0.118989</td>\n    </tr>\n    <tr>\n      <th>TS</th>\n      <td>0.500000</td>\n      <td>0.000000</td>\n      <td>0.674394</td>\n      <td>0.048110</td>\n      <td>0.709141</td>\n      <td>0.137541</td>\n      <td>0.500000</td>\n      <td>0.000000</td>\n      <td>0.500000</td>\n      <td>0.000000</td>\n      <td>...</td>\n      <td>0.500000</td>\n      <td>0.000000</td>\n      <td>0.500000</td>\n      <td>0.000000</td>\n      <td>0.548788</td>\n      <td>0.063363</td>\n      <td>0.515229</td>\n      <td>0.048635</td>\n      <td>0.500000</td>\n      <td>0.000000</td>\n    </tr>\n    <tr>\n      <th>SD</th>\n      <td>0.500000</td>\n      <td>0.000000</td>\n      <td>0.995652</td>\n      <td>0.008696</td>\n      <td>0.581159</td>\n      <td>0.103768</td>\n      <td>0.500000</td>\n      <td>0.000000</td>\n      <td>0.500000</td>\n      <td>0.000000</td>\n      <td>...</td>\n      <td>0.500000</td>\n      <td>0.000000</td>\n      <td>0.500000</td>\n      <td>0.000000</td>\n      <td>0.500000</td>\n      <td>0.000000</td>\n      <td>0.500000</td>\n      <td>0.000000</td>\n      <td>0.500000</td>\n      <td>0.000000</td>\n    </tr>\n    <tr>\n      <th rowspan=\"4\" valign=\"top\">h-Optimal</th>\n      <th>QA</th>\n      <td>0.849755</td>\n      <td>0.058660</td>\n      <td>0.912513</td>\n      <td>0.039050</td>\n      <td>0.915962</td>\n      <td>0.037280</td>\n      <td>0.568867</td>\n      <td>0.031252</td>\n      <td>0.722727</td>\n      <td>0.050988</td>\n      <td>...</td>\n      <td>0.598461</td>\n      <td>0.049990</td>\n      <td>0.571946</td>\n      <td>0.102332</td>\n      <td>0.662170</td>\n      <td>0.054674</td>\n      <td>0.763139</td>\n      <td>0.038796</td>\n      <td>0.621548</td>\n      <td>0.041019</td>\n    </tr>\n    <tr>\n      <th>SA</th>\n      <td>0.627381</td>\n      <td>0.160056</td>\n      <td>0.859777</td>\n      <td>0.080269</td>\n      <td>0.858711</td>\n      <td>0.067179</td>\n      <td>0.529125</td>\n      <td>0.033097</td>\n      <td>0.611199</td>\n      <td>0.136303</td>\n      <td>...</td>\n      <td>0.632562</td>\n      <td>0.084394</td>\n      <td>0.558043</td>\n      <td>0.048145</td>\n      <td>0.676514</td>\n      <td>0.071259</td>\n      <td>0.649170</td>\n      <td>0.023409</td>\n      <td>0.638972</td>\n      <td>0.051429</td>\n    </tr>\n    <tr>\n      <th>TS</th>\n      <td>0.555556</td>\n      <td>0.111111</td>\n      <td>0.760435</td>\n      <td>0.053745</td>\n      <td>0.784178</td>\n      <td>0.073078</td>\n      <td>0.562500</td>\n      <td>0.096825</td>\n      <td>0.500000</td>\n      <td>0.000000</td>\n      <td>...</td>\n      <td>0.500000</td>\n      <td>0.000000</td>\n      <td>0.500000</td>\n      <td>0.000000</td>\n      <td>0.538145</td>\n      <td>0.051383</td>\n      <td>0.689328</td>\n      <td>0.052125</td>\n      <td>0.500000</td>\n      <td>0.000000</td>\n    </tr>\n    <tr>\n      <th>SD</th>\n      <td>0.571429</td>\n      <td>0.142857</td>\n      <td>0.871288</td>\n      <td>0.045756</td>\n      <td>0.875833</td>\n      <td>0.047230</td>\n      <td>0.585714</td>\n      <td>0.138505</td>\n      <td>0.632143</td>\n      <td>0.117393</td>\n      <td>...</td>\n      <td>0.500000</td>\n      <td>0.000000</td>\n      <td>0.500000</td>\n      <td>0.000000</td>\n      <td>0.500000</td>\n      <td>0.000000</td>\n      <td>0.768745</td>\n      <td>0.058324</td>\n      <td>0.500000</td>\n      <td>0.000000</td>\n    </tr>\n    <tr>\n      <th>QA_over_all</th>\n      <th>QA</th>\n      <td>0.771145</td>\n      <td>0.144465</td>\n      <td>0.892312</td>\n      <td>0.015488</td>\n      <td>0.849080</td>\n      <td>0.086994</td>\n      <td>0.768470</td>\n      <td>0.052562</td>\n      <td>0.710831</td>\n      <td>0.133511</td>\n      <td>...</td>\n      <td>0.712843</td>\n      <td>0.040571</td>\n      <td>0.596851</td>\n      <td>0.133777</td>\n      <td>0.759082</td>\n      <td>0.047382</td>\n      <td>0.734937</td>\n      <td>0.065145</td>\n      <td>0.760076</td>\n      <td>0.043536</td>\n    </tr>\n  </tbody>\n</table>\n<p>13 rows × 96 columns</p>\n</div>"
     },
     "execution_count": 13,
     "metadata": {},
     "output_type": "execute_result"
    }
   ],
   "source": [
    "size_instances = 'small'\n",
    "metamodels_results_df = pd.read_csv(f'data/metamodels_results/{size_instances}/metamodels_results.csv',\n",
    "                                    index_col=[0,1],\n",
    "                                    header=[0,1,2])\n",
    "metamodels_results_df"
   ],
   "metadata": {
    "collapsed": false,
    "ExecuteTime": {
     "end_time": "2024-07-22T21:03:56.695068Z",
     "start_time": "2024-07-22T21:03:55.095411Z"
    }
   },
   "id": "899b9f807836238"
  },
  {
   "cell_type": "markdown",
   "source": [
    "# Training and testing a meta-model\n",
    "We give an example on how to train and test a meta-model with the Meta-Learning dataset.\n",
    "\n",
    "We train an AdaBoost meta-model with the `LogIsing` domain of the small instances, to predict the label `Optimal` for the Quantum Annealing (`QA`). We use balanced accuracy to evaluate the performance of the meta-model.\n",
    "Some features of this domain are not defined for some instances.\n",
    "In our work, we substitute the `nan` values of a certain feature `f` with the mean value of `f`. We do it also here. "
   ],
   "metadata": {
    "collapsed": false
   },
   "id": "b74edb719c96f6e9"
  },
  {
   "cell_type": "code",
   "execution_count": 14,
   "outputs": [],
   "source": [
    "from sklearn.ensemble import AdaBoostClassifier\n",
    "from sklearn.metrics import balanced_accuracy_score\n",
    "from sklearn.preprocessing import MinMaxScaler\n",
    "\n",
    "# Features in the domain LogIsing\n",
    "domain = 'LogIsing'\n",
    "X = metalearning_df.loc[range(246), domain]\n",
    "\n",
    "# Target data\n",
    "target = ('Optimal', 'QA')\n",
    "y = metalearning_df.loc[range(246), target]\n",
    "\n",
    "# Replace not defined value in X with the mean values of the features\n",
    "a = np.isinf(X)\n",
    "X.replace([np.inf, -np.inf], np.nan, inplace=True)\n",
    "X.fillna(X.mean(), inplace=True)\n",
    "\n",
    "# Features are scaled in the range [0,1]\n",
    "scaler = MinMaxScaler()\n",
    "for col in X.columns:\n",
    "    transformed_col = scaler.fit_transform(pd.DataFrame(X.loc[:,col]))\n",
    "    X.loc[:,col] = transformed_col"
   ],
   "metadata": {
    "collapsed": false,
    "ExecuteTime": {
     "end_time": "2024-07-22T21:04:06.550527Z",
     "start_time": "2024-07-22T21:04:02.443609Z"
    }
   },
   "id": "c76c97a40929aca0"
  },
  {
   "cell_type": "markdown",
   "source": [
    "We generate two data splits: one contains the data used for the training (67% of the instances), the other contains the data used to test the meta-model (33% of the instances). In this example, we generate the stratified splits over the problem class."
   ],
   "metadata": {
    "collapsed": false
   },
   "id": "35995ec3b5ce9355"
  },
  {
   "cell_type": "code",
   "execution_count": 15,
   "outputs": [],
   "source": [
    "from sklearn.model_selection import train_test_split\n",
    "\n",
    "test_size = 0.33\n",
    "problem = ('instance_id', 'problem')\n",
    "\n",
    "X_train, X_test, y_train, y_test = train_test_split(X, y.values, test_size=test_size, stratify= metalearning_df.loc[range(246), problem])"
   ],
   "metadata": {
    "collapsed": false,
    "ExecuteTime": {
     "end_time": "2024-07-22T21:04:10.673646Z",
     "start_time": "2024-07-22T21:04:10.452284Z"
    }
   },
   "id": "94136a1b5db3d0b"
  },
  {
   "cell_type": "markdown",
   "source": [
    "Now we train the model and compute its balanced_accuracy on the test split."
   ],
   "metadata": {
    "collapsed": false
   },
   "id": "99fdf81ed4b22094"
  },
  {
   "cell_type": "code",
   "execution_count": 16,
   "outputs": [
    {
     "name": "stdout",
     "output_type": "stream",
     "text": [
      "Balanced Accuracy of the meta-model: 0.8266908212560387\n"
     ]
    }
   ],
   "source": [
    "# Training of the meta-model\n",
    "model = AdaBoostClassifier()\n",
    "model.fit(X_train, y_train)\n",
    "\n",
    "# Testing of the meta-model\n",
    "y_predicted = model.predict(X_test)\n",
    "balanced_accuracy = balanced_accuracy_score(y_test, y_predicted)\n",
    "print(f'Balanced Accuracy of the meta-model: {balanced_accuracy}')"
   ],
   "metadata": {
    "collapsed": false,
    "ExecuteTime": {
     "end_time": "2024-07-22T21:04:20.645739Z",
     "start_time": "2024-07-22T21:04:20.311156Z"
    }
   },
   "id": "5c627fe353f87e2e"
  },
  {
   "cell_type": "markdown",
   "source": [
    "We can compute the importance of the features of the metamodel with permutation feature importance.\n",
    "Each feature is shuffled for `n_repeats = 100` times and the loss in the balanced accuracy is computed."
   ],
   "metadata": {
    "collapsed": false
   },
   "id": "5f134c4915c674d7"
  },
  {
   "cell_type": "code",
   "execution_count": 17,
   "outputs": [],
   "source": [
    "from sklearn.inspection import permutation_importance\n",
    "\n",
    "permutation_importances = permutation_importance(model, X_test, y_test,\n",
    "                                                scoring='balanced_accuracy', n_repeats=100)"
   ],
   "metadata": {
    "collapsed": false,
    "ExecuteTime": {
     "end_time": "2024-07-22T21:06:56.345867Z",
     "start_time": "2024-07-22T21:04:25.863433Z"
    }
   },
   "id": "8be24f10d28ec59b"
  },
  {
   "cell_type": "code",
   "execution_count": 18,
   "outputs": [
    {
     "name": "stdout",
     "output_type": "stream",
     "text": [
      "FEATURE IMPORTANCES\n",
      "Laplacian_spectral_gap: 0.06277777777777777\n",
      "Structural Degree_hhi: 0.04172101449275362\n",
      "Adjacency_radius: 0.041588164251207746\n",
      "Degree_gini_index: 0.03736714975845411\n",
      "Bias_gini_index: 0.035078502415458956\n",
      "Structural Degree_max_eigval: 0.021841787439613524\n",
      "Structural Adjacency_min_eigval: 0.019516908212560385\n",
      "Bias_condition_number: 0.015072463768115938\n",
      "Adjacency_shannon_entropy: 0.011962560386473427\n",
      "Adjacency_gini_index: 0.010797101449275396\n",
      "Normalized Laplacian_hhi: 0.010223429951690826\n",
      "Normalized Laplacian_shannon_entropy: 0.009196859903381644\n",
      "Adjacency_hhi: 0.007210144927536212\n",
      "Structural Adjacency_gini_index: 0.005138888888888871\n",
      "Adjacency_spectral_gap: 0.0048188405797101345\n",
      "Laplacian_connectivity: 0.0044565217391304545\n",
      "Structural Degree_gini_index: 0.004426328502415472\n",
      "Bias_min_eigval: 0.003369565217391307\n",
      "Laplacian_gini_index: 0.002971014492753643\n",
      "Degree_hhi: 0.00028381642512077864\n",
      "Adjacency_condition_number: 0.0\n",
      "Structural Adjacency_condition_number: 0.0\n",
      "Normalized Adjacency_condition_number: 0.0\n",
      "Degree_condition_number: 0.0\n",
      "Structural Degree_condition_number: 0.0\n",
      "Adjacency_min_eigval: 0.0\n",
      "Normalized Adjacency_min_eigval: 0.0\n",
      "Degree_min_eigval: 0.0\n",
      "Structural Degree_min_eigval: 0.0\n",
      "Laplacian_min_eigval: 0.0\n",
      "Structural Laplacian_min_eigval: 0.0\n",
      "Normalized Laplacian_min_eigval: 0.0\n",
      "Structural Adjacency_max_eigval: 0.0\n",
      "Normalized Adjacency_max_eigval: 0.0\n",
      "Degree_max_eigval: 0.0\n",
      "Structural Laplacian_max_eigval: 0.0\n",
      "Normalized Laplacian_max_eigval: 0.0\n",
      "Normalized Adjacency_gini_index: 0.0\n",
      "Structural Laplacian_gini_index: 0.0\n",
      "Normalized Laplacian_gini_index: 0.0\n",
      "Structural Adjacency_hhi: 0.0\n",
      "Normalized Adjacency_hhi: 0.0\n",
      "Laplacian_hhi: 0.0\n",
      "Structural Laplacian_hhi: 0.0\n",
      "Bias_hhi: 0.0\n",
      "Structural Adjacency_shannon_entropy: 0.0\n",
      "Normalized Adjacency_shannon_entropy: 0.0\n",
      "Degree_shannon_entropy: 0.0\n",
      "Structural Degree_shannon_entropy: 0.0\n",
      "Laplacian_shannon_entropy: 0.0\n",
      "Structural Laplacian_shannon_entropy: 0.0\n",
      "Bias_shannon_entropy: 0.0\n",
      "Adjacency_diameter: 0.0\n",
      "Structural Adjacency_diameter: 0.0\n",
      "Normalized Adjacency_diameter: 0.0\n",
      "Structural Adjacency_radius: 0.0\n",
      "Normalized Adjacency_radius: 0.0\n",
      "Normalized Adjacency_spectral_gap: 0.0\n",
      "Structural Laplacian_spectral_gap: 0.0\n",
      "Normalized Laplacian_spectral_gap: 0.0\n",
      "Laplacian_connected_components: 0.0\n",
      "Structural Laplacian_connected_components: 0.0\n",
      "Normalized Laplacian_connected_components: 0.0\n",
      "Structural Laplacian_connectivity: 0.0\n",
      "Normalized Laplacian_connectivity: 0.0\n",
      "Structural Adjacency_spectral_gap: -6.038647342996195e-05\n",
      "Laplacian_max_eigval: -0.0024094202898550608\n",
      "Adjacency_max_eigval: -0.0035386473429951646\n",
      "Bias_max_eigval: -0.017185990338164273\n"
     ]
    }
   ],
   "source": [
    "feature_importances = {}\n",
    "for feature, importance  in zip(X.columns, permutation_importances.importances_mean):\n",
    "    feature_importances[feature] = importance\n",
    "    \n",
    "# We sort the feature from the most important one to the least important one\n",
    "print(f'FEATURE IMPORTANCES')\n",
    "for key in sorted(feature_importances, key=feature_importances.get, reverse=True):\n",
    "    print(f'{key}: {feature_importances[key]}')"
   ],
   "metadata": {
    "collapsed": false,
    "ExecuteTime": {
     "end_time": "2024-07-22T21:06:56.366386Z",
     "start_time": "2024-07-22T21:06:56.356031Z"
    }
   },
   "id": "650b0a921f47e17b"
  },
  {
   "cell_type": "markdown",
   "source": [
    "# Feature Importance\n",
    "We access to the results of the feature importance of the meta-models trained over the small instances.\n",
    "Change `size_instances` to `'large'` to see the results for the large instances."
   ],
   "metadata": {
    "collapsed": false
   },
   "id": "d484f4719022ee2a"
  },
  {
   "cell_type": "code",
   "execution_count": 19,
   "outputs": [
    {
     "data": {
      "text/plain": "                                                           Optimal            \\\n                                                                QA             \n                                                     random_forest ada_boost   \nSolSpace  gini_index                                      0.205036  0.172687   \n          hhi                                             0.000000  0.021672   \n          grouped_hhi                                     0.003976  0.221262   \n          shannon_entropy                                 0.000839  0.046280   \n          min                                            -0.002288  0.034504   \n...                                                            ...       ...   \nStructLap EMBEDDING ISING GRAPH_hhi                       0.000000  0.001480   \n          EMBEDDING ISING GRAPH_shannon_entropy           0.000000  0.000000   \n          EMBEDDING ISING GRAPH_spectral_gap              0.000000  0.015843   \n          EMBEDDING ISING GRAPH_connectivity              0.000000  0.019567   \n          EMBEDDING ISING GRAPH_connected_components      0.000000  0.000000   \n\n                                                                \\\n                                                                 \n                                                      xg_boost   \nSolSpace  gini_index                                  0.127895   \n          hhi                                         0.005900   \n          grouped_hhi                                 0.081225   \n          shannon_entropy                            -0.010177   \n          min                                         0.000886   \n...                                                        ...   \nStructLap EMBEDDING ISING GRAPH_hhi                  -0.001739   \n          EMBEDDING ISING GRAPH_shannon_entropy       0.016614   \n          EMBEDDING ISING GRAPH_spectral_gap          0.008837   \n          EMBEDDING ISING GRAPH_connectivity          0.008939   \n          EMBEDDING ISING GRAPH_connected_components  0.000000   \n\n                                                                          \\\n                                                                           \n                                                     logistic_regression   \nSolSpace  gini_index                                            0.075184   \n          hhi                                                  -0.002777   \n          grouped_hhi                                           0.182249   \n          shannon_entropy                                       0.000353   \n          min                                                   0.000040   \n...                                                                  ...   \nStructLap EMBEDDING ISING GRAPH_hhi                             0.000341   \n          EMBEDDING ISING GRAPH_shannon_entropy                 0.004654   \n          EMBEDDING ISING GRAPH_spectral_gap                    0.000000   \n          EMBEDDING ISING GRAPH_connectivity                    0.025019   \n          EMBEDDING ISING GRAPH_connected_components            0.001884   \n\n                                                                              \\\n                                                                SA             \n                                                     random_forest ada_boost   \nSolSpace  gini_index                                      0.190974  0.074814   \n          hhi                                             0.002667  0.042535   \n          grouped_hhi                                     0.085735  0.190312   \n          shannon_entropy                                -0.000316  0.047055   \n          min                                             0.019628  0.034718   \n...                                                            ...       ...   \nStructLap EMBEDDING ISING GRAPH_hhi                       0.002490  0.000000   \n          EMBEDDING ISING GRAPH_shannon_entropy           0.004282  0.000000   \n          EMBEDDING ISING GRAPH_spectral_gap              0.010546  0.007978   \n          EMBEDDING ISING GRAPH_connectivity              0.013843  0.003738   \n          EMBEDDING ISING GRAPH_connected_components      0.000000  0.004479   \n\n                                                                \\\n                                                                 \n                                                      xg_boost   \nSolSpace  gini_index                                  0.012612   \n          hhi                                         0.024193   \n          grouped_hhi                                 0.021228   \n          shannon_entropy                             0.009306   \n          min                                         0.085487   \n...                                                        ...   \nStructLap EMBEDDING ISING GRAPH_hhi                   0.009635   \n          EMBEDDING ISING GRAPH_shannon_entropy       0.024441   \n          EMBEDDING ISING GRAPH_spectral_gap          0.025764   \n          EMBEDDING ISING GRAPH_connectivity          0.015008   \n          EMBEDDING ISING GRAPH_connected_components  0.000000   \n\n                                                                          \\\n                                                                           \n                                                     logistic_regression   \nSolSpace  gini_index                                           -0.017524   \n          hhi                                                  -0.001573   \n          grouped_hhi                                           0.008101   \n          shannon_entropy                                      -0.003954   \n          min                                                  -0.010921   \n...                                                                  ...   \nStructLap EMBEDDING ISING GRAPH_hhi                             0.000000   \n          EMBEDDING ISING GRAPH_shannon_entropy                 0.026136   \n          EMBEDDING ISING GRAPH_spectral_gap                   -0.000652   \n          EMBEDDING ISING GRAPH_connectivity                    0.031465   \n          EMBEDDING ISING GRAPH_connected_components            0.007729   \n\n                                                                              \\\n                                                                TS             \n                                                     random_forest ada_boost   \nSolSpace  gini_index                                      0.000000  0.002318   \n          hhi                                             0.000000  0.004379   \n          grouped_hhi                                     0.062192  0.298581   \n          shannon_entropy                                 0.000000  0.025504   \n          min                                             0.000000  0.011470   \n...                                                            ...       ...   \nStructLap EMBEDDING ISING GRAPH_hhi                       0.000000  0.000000   \n          EMBEDDING ISING GRAPH_shannon_entropy           0.000000  0.000000   \n          EMBEDDING ISING GRAPH_spectral_gap              0.000000  0.000000   \n          EMBEDDING ISING GRAPH_connectivity              0.000000  0.000000   \n          EMBEDDING ISING GRAPH_connected_components      0.000000  0.000000   \n\n                                                      ... h-Optimal  \\\n                                                      ...        TS   \n                                                      ...  xg_boost   \nSolSpace  gini_index                                  ...  0.024622   \n          hhi                                         ...  0.016739   \n          grouped_hhi                                 ...  0.098201   \n          shannon_entropy                             ...  0.028833   \n          min                                         ...  0.020925   \n...                                                   ...       ...   \nStructLap EMBEDDING ISING GRAPH_hhi                   ... -0.009476   \n          EMBEDDING ISING GRAPH_shannon_entropy       ...  0.016792   \n          EMBEDDING ISING GRAPH_spectral_gap          ...  0.000421   \n          EMBEDDING ISING GRAPH_connectivity          ...  0.005440   \n          EMBEDDING ISING GRAPH_connected_components  ...  0.000000   \n\n                                                                          \\\n                                                                           \n                                                     logistic_regression   \nSolSpace  gini_index                                            0.003523   \n          hhi                                                   0.000000   \n          grouped_hhi                                           0.006600   \n          shannon_entropy                                       0.000000   \n          min                                                   0.009410   \n...                                                                  ...   \nStructLap EMBEDDING ISING GRAPH_hhi                             0.000000   \n          EMBEDDING ISING GRAPH_shannon_entropy                 0.000000   \n          EMBEDDING ISING GRAPH_spectral_gap                    0.000000   \n          EMBEDDING ISING GRAPH_connectivity                    0.000000   \n          EMBEDDING ISING GRAPH_connected_components           -0.000640   \n\n                                                                              \\\n                                                                SD             \n                                                     random_forest ada_boost   \nSolSpace  gini_index                                           0.0  0.038333   \n          hhi                                                  0.0  0.009905   \n          grouped_hhi                                          0.0  0.024740   \n          shannon_entropy                                      0.0  0.005429   \n          min                                                  0.0  0.008667   \n...                                                            ...       ...   \nStructLap EMBEDDING ISING GRAPH_hhi                            0.0  0.000000   \n          EMBEDDING ISING GRAPH_shannon_entropy                0.0  0.000000   \n          EMBEDDING ISING GRAPH_spectral_gap                   0.0  0.001857   \n          EMBEDDING ISING GRAPH_connectivity                   0.0 -0.034589   \n          EMBEDDING ISING GRAPH_connected_components           0.0  0.000000   \n\n                                                                \\\n                                                                 \n                                                      xg_boost   \nSolSpace  gini_index                                  0.010787   \n          hhi                                         0.008846   \n          grouped_hhi                                 0.028344   \n          shannon_entropy                             0.000091   \n          min                                         0.066619   \n...                                                        ...   \nStructLap EMBEDDING ISING GRAPH_hhi                  -0.000333   \n          EMBEDDING ISING GRAPH_shannon_entropy       0.000512   \n          EMBEDDING ISING GRAPH_spectral_gap          0.001952   \n          EMBEDDING ISING GRAPH_connectivity         -0.001952   \n          EMBEDDING ISING GRAPH_connected_components  0.000000   \n\n                                                                          \\\n                                                                           \n                                                     logistic_regression   \nSolSpace  gini_index                                            0.006857   \n          hhi                                                   0.000000   \n          grouped_hhi                                           0.000000   \n          shannon_entropy                                       0.000000   \n          min                                                   0.013619   \n...                                                                  ...   \nStructLap EMBEDDING ISING GRAPH_hhi                             0.000000   \n          EMBEDDING ISING GRAPH_shannon_entropy                 0.000000   \n          EMBEDDING ISING GRAPH_spectral_gap                    0.000000   \n          EMBEDDING ISING GRAPH_connectivity                    0.000000   \n          EMBEDDING ISING GRAPH_connected_components            0.000000   \n\n                                                       QA_over_all            \\\n                                                                QA             \n                                                     random_forest ada_boost   \nSolSpace  gini_index                                      0.215830  0.181610   \n          hhi                                             0.000000  0.002129   \n          grouped_hhi                                     0.004660  0.160841   \n          shannon_entropy                                 0.001379  0.039351   \n          min                                             0.000273  0.013822   \n...                                                            ...       ...   \nStructLap EMBEDDING ISING GRAPH_hhi                       0.000000  0.000000   \n          EMBEDDING ISING GRAPH_shannon_entropy          -0.001937  0.000000   \n          EMBEDDING ISING GRAPH_spectral_gap              0.000000  0.011432   \n          EMBEDDING ISING GRAPH_connectivity             -0.001690  0.019841   \n          EMBEDDING ISING GRAPH_connected_components      0.000000  0.005491   \n\n                                                                \\\n                                                                 \n                                                      xg_boost   \nSolSpace  gini_index                                  0.235092   \n          hhi                                         0.025262   \n          grouped_hhi                                 0.077073   \n          shannon_entropy                             0.011451   \n          min                                        -0.000338   \n...                                                        ...   \nStructLap EMBEDDING ISING GRAPH_hhi                   0.002269   \n          EMBEDDING ISING GRAPH_shannon_entropy       0.002767   \n          EMBEDDING ISING GRAPH_spectral_gap          0.005985   \n          EMBEDDING ISING GRAPH_connectivity          0.025002   \n          EMBEDDING ISING GRAPH_connected_components  0.000000   \n\n                                                                          \n                                                                          \n                                                     logistic_regression  \nSolSpace  gini_index                                            0.080062  \n          hhi                                                  -0.005751  \n          grouped_hhi                                           0.175708  \n          shannon_entropy                                      -0.001684  \n          min                                                   0.000453  \n...                                                                  ...  \nStructLap EMBEDDING ISING GRAPH_hhi                             0.000211  \n          EMBEDDING ISING GRAPH_shannon_entropy                 0.003512  \n          EMBEDDING ISING GRAPH_spectral_gap                    0.000000  \n          EMBEDDING ISING GRAPH_connectivity                    0.016075  \n          EMBEDDING ISING GRAPH_connected_components            0.001358  \n\n[250 rows x 52 columns]",
      "text/html": "<div>\n<style scoped>\n    .dataframe tbody tr th:only-of-type {\n        vertical-align: middle;\n    }\n\n    .dataframe tbody tr th {\n        vertical-align: top;\n    }\n\n    .dataframe thead tr th {\n        text-align: left;\n    }\n</style>\n<table border=\"1\" class=\"dataframe\">\n  <thead>\n    <tr>\n      <th></th>\n      <th></th>\n      <th colspan=\"10\" halign=\"left\">Optimal</th>\n      <th>...</th>\n      <th colspan=\"6\" halign=\"left\">h-Optimal</th>\n      <th colspan=\"4\" halign=\"left\">QA_over_all</th>\n    </tr>\n    <tr>\n      <th></th>\n      <th></th>\n      <th colspan=\"4\" halign=\"left\">QA</th>\n      <th colspan=\"4\" halign=\"left\">SA</th>\n      <th colspan=\"2\" halign=\"left\">TS</th>\n      <th>...</th>\n      <th colspan=\"2\" halign=\"left\">TS</th>\n      <th colspan=\"4\" halign=\"left\">SD</th>\n      <th colspan=\"4\" halign=\"left\">QA</th>\n    </tr>\n    <tr>\n      <th></th>\n      <th></th>\n      <th>random_forest</th>\n      <th>ada_boost</th>\n      <th>xg_boost</th>\n      <th>logistic_regression</th>\n      <th>random_forest</th>\n      <th>ada_boost</th>\n      <th>xg_boost</th>\n      <th>logistic_regression</th>\n      <th>random_forest</th>\n      <th>ada_boost</th>\n      <th>...</th>\n      <th>xg_boost</th>\n      <th>logistic_regression</th>\n      <th>random_forest</th>\n      <th>ada_boost</th>\n      <th>xg_boost</th>\n      <th>logistic_regression</th>\n      <th>random_forest</th>\n      <th>ada_boost</th>\n      <th>xg_boost</th>\n      <th>logistic_regression</th>\n    </tr>\n  </thead>\n  <tbody>\n    <tr>\n      <th rowspan=\"5\" valign=\"top\">SolSpace</th>\n      <th>gini_index</th>\n      <td>0.205036</td>\n      <td>0.172687</td>\n      <td>0.127895</td>\n      <td>0.075184</td>\n      <td>0.190974</td>\n      <td>0.074814</td>\n      <td>0.012612</td>\n      <td>-0.017524</td>\n      <td>0.000000</td>\n      <td>0.002318</td>\n      <td>...</td>\n      <td>0.024622</td>\n      <td>0.003523</td>\n      <td>0.0</td>\n      <td>0.038333</td>\n      <td>0.010787</td>\n      <td>0.006857</td>\n      <td>0.215830</td>\n      <td>0.181610</td>\n      <td>0.235092</td>\n      <td>0.080062</td>\n    </tr>\n    <tr>\n      <th>hhi</th>\n      <td>0.000000</td>\n      <td>0.021672</td>\n      <td>0.005900</td>\n      <td>-0.002777</td>\n      <td>0.002667</td>\n      <td>0.042535</td>\n      <td>0.024193</td>\n      <td>-0.001573</td>\n      <td>0.000000</td>\n      <td>0.004379</td>\n      <td>...</td>\n      <td>0.016739</td>\n      <td>0.000000</td>\n      <td>0.0</td>\n      <td>0.009905</td>\n      <td>0.008846</td>\n      <td>0.000000</td>\n      <td>0.000000</td>\n      <td>0.002129</td>\n      <td>0.025262</td>\n      <td>-0.005751</td>\n    </tr>\n    <tr>\n      <th>grouped_hhi</th>\n      <td>0.003976</td>\n      <td>0.221262</td>\n      <td>0.081225</td>\n      <td>0.182249</td>\n      <td>0.085735</td>\n      <td>0.190312</td>\n      <td>0.021228</td>\n      <td>0.008101</td>\n      <td>0.062192</td>\n      <td>0.298581</td>\n      <td>...</td>\n      <td>0.098201</td>\n      <td>0.006600</td>\n      <td>0.0</td>\n      <td>0.024740</td>\n      <td>0.028344</td>\n      <td>0.000000</td>\n      <td>0.004660</td>\n      <td>0.160841</td>\n      <td>0.077073</td>\n      <td>0.175708</td>\n    </tr>\n    <tr>\n      <th>shannon_entropy</th>\n      <td>0.000839</td>\n      <td>0.046280</td>\n      <td>-0.010177</td>\n      <td>0.000353</td>\n      <td>-0.000316</td>\n      <td>0.047055</td>\n      <td>0.009306</td>\n      <td>-0.003954</td>\n      <td>0.000000</td>\n      <td>0.025504</td>\n      <td>...</td>\n      <td>0.028833</td>\n      <td>0.000000</td>\n      <td>0.0</td>\n      <td>0.005429</td>\n      <td>0.000091</td>\n      <td>0.000000</td>\n      <td>0.001379</td>\n      <td>0.039351</td>\n      <td>0.011451</td>\n      <td>-0.001684</td>\n    </tr>\n    <tr>\n      <th>min</th>\n      <td>-0.002288</td>\n      <td>0.034504</td>\n      <td>0.000886</td>\n      <td>0.000040</td>\n      <td>0.019628</td>\n      <td>0.034718</td>\n      <td>0.085487</td>\n      <td>-0.010921</td>\n      <td>0.000000</td>\n      <td>0.011470</td>\n      <td>...</td>\n      <td>0.020925</td>\n      <td>0.009410</td>\n      <td>0.0</td>\n      <td>0.008667</td>\n      <td>0.066619</td>\n      <td>0.013619</td>\n      <td>0.000273</td>\n      <td>0.013822</td>\n      <td>-0.000338</td>\n      <td>0.000453</td>\n    </tr>\n    <tr>\n      <th>...</th>\n      <th>...</th>\n      <td>...</td>\n      <td>...</td>\n      <td>...</td>\n      <td>...</td>\n      <td>...</td>\n      <td>...</td>\n      <td>...</td>\n      <td>...</td>\n      <td>...</td>\n      <td>...</td>\n      <td>...</td>\n      <td>...</td>\n      <td>...</td>\n      <td>...</td>\n      <td>...</td>\n      <td>...</td>\n      <td>...</td>\n      <td>...</td>\n      <td>...</td>\n      <td>...</td>\n      <td>...</td>\n    </tr>\n    <tr>\n      <th rowspan=\"5\" valign=\"top\">StructLap</th>\n      <th>EMBEDDING ISING GRAPH_hhi</th>\n      <td>0.000000</td>\n      <td>0.001480</td>\n      <td>-0.001739</td>\n      <td>0.000341</td>\n      <td>0.002490</td>\n      <td>0.000000</td>\n      <td>0.009635</td>\n      <td>0.000000</td>\n      <td>0.000000</td>\n      <td>0.000000</td>\n      <td>...</td>\n      <td>-0.009476</td>\n      <td>0.000000</td>\n      <td>0.0</td>\n      <td>0.000000</td>\n      <td>-0.000333</td>\n      <td>0.000000</td>\n      <td>0.000000</td>\n      <td>0.000000</td>\n      <td>0.002269</td>\n      <td>0.000211</td>\n    </tr>\n    <tr>\n      <th>EMBEDDING ISING GRAPH_shannon_entropy</th>\n      <td>0.000000</td>\n      <td>0.000000</td>\n      <td>0.016614</td>\n      <td>0.004654</td>\n      <td>0.004282</td>\n      <td>0.000000</td>\n      <td>0.024441</td>\n      <td>0.026136</td>\n      <td>0.000000</td>\n      <td>0.000000</td>\n      <td>...</td>\n      <td>0.016792</td>\n      <td>0.000000</td>\n      <td>0.0</td>\n      <td>0.000000</td>\n      <td>0.000512</td>\n      <td>0.000000</td>\n      <td>-0.001937</td>\n      <td>0.000000</td>\n      <td>0.002767</td>\n      <td>0.003512</td>\n    </tr>\n    <tr>\n      <th>EMBEDDING ISING GRAPH_spectral_gap</th>\n      <td>0.000000</td>\n      <td>0.015843</td>\n      <td>0.008837</td>\n      <td>0.000000</td>\n      <td>0.010546</td>\n      <td>0.007978</td>\n      <td>0.025764</td>\n      <td>-0.000652</td>\n      <td>0.000000</td>\n      <td>0.000000</td>\n      <td>...</td>\n      <td>0.000421</td>\n      <td>0.000000</td>\n      <td>0.0</td>\n      <td>0.001857</td>\n      <td>0.001952</td>\n      <td>0.000000</td>\n      <td>0.000000</td>\n      <td>0.011432</td>\n      <td>0.005985</td>\n      <td>0.000000</td>\n    </tr>\n    <tr>\n      <th>EMBEDDING ISING GRAPH_connectivity</th>\n      <td>0.000000</td>\n      <td>0.019567</td>\n      <td>0.008939</td>\n      <td>0.025019</td>\n      <td>0.013843</td>\n      <td>0.003738</td>\n      <td>0.015008</td>\n      <td>0.031465</td>\n      <td>0.000000</td>\n      <td>0.000000</td>\n      <td>...</td>\n      <td>0.005440</td>\n      <td>0.000000</td>\n      <td>0.0</td>\n      <td>-0.034589</td>\n      <td>-0.001952</td>\n      <td>0.000000</td>\n      <td>-0.001690</td>\n      <td>0.019841</td>\n      <td>0.025002</td>\n      <td>0.016075</td>\n    </tr>\n    <tr>\n      <th>EMBEDDING ISING GRAPH_connected_components</th>\n      <td>0.000000</td>\n      <td>0.000000</td>\n      <td>0.000000</td>\n      <td>0.001884</td>\n      <td>0.000000</td>\n      <td>0.004479</td>\n      <td>0.000000</td>\n      <td>0.007729</td>\n      <td>0.000000</td>\n      <td>0.000000</td>\n      <td>...</td>\n      <td>0.000000</td>\n      <td>-0.000640</td>\n      <td>0.0</td>\n      <td>0.000000</td>\n      <td>0.000000</td>\n      <td>0.000000</td>\n      <td>0.000000</td>\n      <td>0.005491</td>\n      <td>0.000000</td>\n      <td>0.001358</td>\n    </tr>\n  </tbody>\n</table>\n<p>250 rows × 52 columns</p>\n</div>"
     },
     "execution_count": 19,
     "metadata": {},
     "output_type": "execute_result"
    }
   ],
   "source": [
    "size_instances = 'small'\n",
    "feature_importance_df = pd.read_csv(f'data/feature_importance/{size_instances}/feature_importance.csv',\n",
    "                                    index_col=[0,1],\n",
    "                                    header=[0,1,2])\n",
    "feature_importance_df"
   ],
   "metadata": {
    "collapsed": false,
    "ExecuteTime": {
     "end_time": "2024-07-22T21:07:20.818122Z",
     "start_time": "2024-07-22T21:07:20.263607Z"
    }
   },
   "id": "38dd433b2b917be1"
  },
  {
   "cell_type": "code",
   "execution_count": null,
   "outputs": [],
   "source": [],
   "metadata": {
    "collapsed": false
   },
   "id": "8bdaf46df9cf7aa3"
  }
 ],
 "metadata": {
  "kernelspec": {
   "display_name": "Python 3",
   "language": "python",
   "name": "python3"
  },
  "language_info": {
   "codemirror_mode": {
    "name": "ipython",
    "version": 2
   },
   "file_extension": ".py",
   "mimetype": "text/x-python",
   "name": "python",
   "nbconvert_exporter": "python",
   "pygments_lexer": "ipython2",
   "version": "2.7.6"
  }
 },
 "nbformat": 4,
 "nbformat_minor": 5
}
